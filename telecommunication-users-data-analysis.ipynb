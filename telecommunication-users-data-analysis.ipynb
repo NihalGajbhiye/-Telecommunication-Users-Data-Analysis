{
 "cells": [
  {
   "cell_type": "markdown",
   "metadata": {
    "papermill": {
     "duration": 0.040073,
     "end_time": "2021-06-17T14:32:27.316886",
     "exception": false,
     "start_time": "2021-06-17T14:32:27.276813",
     "status": "completed"
    },
    "tags": []
   },
   "source": [
    "# TELECOMMUNICATION"
   ]
  },
  {
   "cell_type": "markdown",
   "metadata": {
    "papermill": {
     "duration": 0.035739,
     "end_time": "2021-06-17T14:32:27.389927",
     "exception": false,
     "start_time": "2021-06-17T14:32:27.354188",
     "status": "completed"
    },
    "tags": []
   },
   "source": [
    "**Content** \n",
    "\n",
    "* Data Preprocess\n",
    "* Simple Data Analysis\n",
    "* Prediction"
   ]
  },
  {
   "cell_type": "code",
   "execution_count": 1,
   "metadata": {
    "execution": {
     "iopub.execute_input": "2021-06-17T14:32:27.466066Z",
     "iopub.status.busy": "2021-06-17T14:32:27.465241Z",
     "iopub.status.idle": "2021-06-17T14:32:28.426586Z",
     "shell.execute_reply": "2021-06-17T14:32:28.425824Z",
     "shell.execute_reply.started": "2021-06-17T14:30:05.710701Z"
    },
    "papermill": {
     "duration": 1.001885,
     "end_time": "2021-06-17T14:32:28.426786",
     "exception": false,
     "start_time": "2021-06-17T14:32:27.424901",
     "status": "completed"
    },
    "tags": []
   },
   "outputs": [],
   "source": [
    "import pandas as pd\n",
    "import numpy as np\n",
    "import matplotlib.pyplot as plt\n",
    "import seaborn as sns"
   ]
  },
  {
   "cell_type": "markdown",
   "metadata": {
    "papermill": {
     "duration": 0.035377,
     "end_time": "2021-06-17T14:32:28.497477",
     "exception": false,
     "start_time": "2021-06-17T14:32:28.462100",
     "status": "completed"
    },
    "tags": []
   },
   "source": [
    "# Data Preprocess"
   ]
  },
  {
   "cell_type": "code",
   "execution_count": 2,
   "metadata": {
    "execution": {
     "iopub.execute_input": "2021-06-17T14:32:28.575398Z",
     "iopub.status.busy": "2021-06-17T14:32:28.574717Z",
     "iopub.status.idle": "2021-06-17T14:32:28.681542Z",
     "shell.execute_reply": "2021-06-17T14:32:28.680854Z",
     "shell.execute_reply.started": "2021-06-17T14:30:06.950990Z"
    },
    "papermill": {
     "duration": 0.147322,
     "end_time": "2021-06-17T14:32:28.681698",
     "exception": false,
     "start_time": "2021-06-17T14:32:28.534376",
     "status": "completed"
    },
    "tags": []
   },
   "outputs": [
    {
     "name": "stdout",
     "output_type": "stream",
     "text": [
      "(5986, 22)\n"
     ]
    },
    {
     "data": {
      "text/html": [
       "<div>\n",
       "<style scoped>\n",
       "    .dataframe tbody tr th:only-of-type {\n",
       "        vertical-align: middle;\n",
       "    }\n",
       "\n",
       "    .dataframe tbody tr th {\n",
       "        vertical-align: top;\n",
       "    }\n",
       "\n",
       "    .dataframe thead th {\n",
       "        text-align: right;\n",
       "    }\n",
       "</style>\n",
       "<table border=\"1\" class=\"dataframe\">\n",
       "  <thead>\n",
       "    <tr style=\"text-align: right;\">\n",
       "      <th></th>\n",
       "      <th>Unnamed: 0</th>\n",
       "      <th>customerID</th>\n",
       "      <th>gender</th>\n",
       "      <th>SeniorCitizen</th>\n",
       "      <th>Partner</th>\n",
       "      <th>Dependents</th>\n",
       "      <th>tenure</th>\n",
       "      <th>PhoneService</th>\n",
       "      <th>MultipleLines</th>\n",
       "      <th>InternetService</th>\n",
       "      <th>...</th>\n",
       "      <th>DeviceProtection</th>\n",
       "      <th>TechSupport</th>\n",
       "      <th>StreamingTV</th>\n",
       "      <th>StreamingMovies</th>\n",
       "      <th>Contract</th>\n",
       "      <th>PaperlessBilling</th>\n",
       "      <th>PaymentMethod</th>\n",
       "      <th>MonthlyCharges</th>\n",
       "      <th>TotalCharges</th>\n",
       "      <th>Churn</th>\n",
       "    </tr>\n",
       "  </thead>\n",
       "  <tbody>\n",
       "    <tr>\n",
       "      <th>0</th>\n",
       "      <td>1869</td>\n",
       "      <td>7010-BRBUU</td>\n",
       "      <td>Male</td>\n",
       "      <td>0</td>\n",
       "      <td>Yes</td>\n",
       "      <td>Yes</td>\n",
       "      <td>72</td>\n",
       "      <td>Yes</td>\n",
       "      <td>Yes</td>\n",
       "      <td>No</td>\n",
       "      <td>...</td>\n",
       "      <td>No internet service</td>\n",
       "      <td>No internet service</td>\n",
       "      <td>No internet service</td>\n",
       "      <td>No internet service</td>\n",
       "      <td>Two year</td>\n",
       "      <td>No</td>\n",
       "      <td>Credit card (automatic)</td>\n",
       "      <td>24.10</td>\n",
       "      <td>1734.65</td>\n",
       "      <td>No</td>\n",
       "    </tr>\n",
       "    <tr>\n",
       "      <th>1</th>\n",
       "      <td>4528</td>\n",
       "      <td>9688-YGXVR</td>\n",
       "      <td>Female</td>\n",
       "      <td>0</td>\n",
       "      <td>No</td>\n",
       "      <td>No</td>\n",
       "      <td>44</td>\n",
       "      <td>Yes</td>\n",
       "      <td>No</td>\n",
       "      <td>Fiber optic</td>\n",
       "      <td>...</td>\n",
       "      <td>Yes</td>\n",
       "      <td>No</td>\n",
       "      <td>Yes</td>\n",
       "      <td>No</td>\n",
       "      <td>Month-to-month</td>\n",
       "      <td>Yes</td>\n",
       "      <td>Credit card (automatic)</td>\n",
       "      <td>88.15</td>\n",
       "      <td>3973.2</td>\n",
       "      <td>No</td>\n",
       "    </tr>\n",
       "    <tr>\n",
       "      <th>2</th>\n",
       "      <td>6344</td>\n",
       "      <td>9286-DOJGF</td>\n",
       "      <td>Female</td>\n",
       "      <td>1</td>\n",
       "      <td>Yes</td>\n",
       "      <td>No</td>\n",
       "      <td>38</td>\n",
       "      <td>Yes</td>\n",
       "      <td>Yes</td>\n",
       "      <td>Fiber optic</td>\n",
       "      <td>...</td>\n",
       "      <td>No</td>\n",
       "      <td>No</td>\n",
       "      <td>No</td>\n",
       "      <td>No</td>\n",
       "      <td>Month-to-month</td>\n",
       "      <td>Yes</td>\n",
       "      <td>Bank transfer (automatic)</td>\n",
       "      <td>74.95</td>\n",
       "      <td>2869.85</td>\n",
       "      <td>Yes</td>\n",
       "    </tr>\n",
       "    <tr>\n",
       "      <th>3</th>\n",
       "      <td>6739</td>\n",
       "      <td>6994-KERXL</td>\n",
       "      <td>Male</td>\n",
       "      <td>0</td>\n",
       "      <td>No</td>\n",
       "      <td>No</td>\n",
       "      <td>4</td>\n",
       "      <td>Yes</td>\n",
       "      <td>No</td>\n",
       "      <td>DSL</td>\n",
       "      <td>...</td>\n",
       "      <td>No</td>\n",
       "      <td>No</td>\n",
       "      <td>No</td>\n",
       "      <td>Yes</td>\n",
       "      <td>Month-to-month</td>\n",
       "      <td>Yes</td>\n",
       "      <td>Electronic check</td>\n",
       "      <td>55.90</td>\n",
       "      <td>238.5</td>\n",
       "      <td>No</td>\n",
       "    </tr>\n",
       "    <tr>\n",
       "      <th>4</th>\n",
       "      <td>432</td>\n",
       "      <td>2181-UAESM</td>\n",
       "      <td>Male</td>\n",
       "      <td>0</td>\n",
       "      <td>No</td>\n",
       "      <td>No</td>\n",
       "      <td>2</td>\n",
       "      <td>Yes</td>\n",
       "      <td>No</td>\n",
       "      <td>DSL</td>\n",
       "      <td>...</td>\n",
       "      <td>Yes</td>\n",
       "      <td>No</td>\n",
       "      <td>No</td>\n",
       "      <td>No</td>\n",
       "      <td>Month-to-month</td>\n",
       "      <td>No</td>\n",
       "      <td>Electronic check</td>\n",
       "      <td>53.45</td>\n",
       "      <td>119.5</td>\n",
       "      <td>No</td>\n",
       "    </tr>\n",
       "  </tbody>\n",
       "</table>\n",
       "<p>5 rows × 22 columns</p>\n",
       "</div>"
      ],
      "text/plain": [
       "   Unnamed: 0  customerID  gender  SeniorCitizen Partner Dependents  tenure  \\\n",
       "0        1869  7010-BRBUU    Male              0     Yes        Yes      72   \n",
       "1        4528  9688-YGXVR  Female              0      No         No      44   \n",
       "2        6344  9286-DOJGF  Female              1     Yes         No      38   \n",
       "3        6739  6994-KERXL    Male              0      No         No       4   \n",
       "4         432  2181-UAESM    Male              0      No         No       2   \n",
       "\n",
       "  PhoneService MultipleLines InternetService  ...     DeviceProtection  \\\n",
       "0          Yes           Yes              No  ...  No internet service   \n",
       "1          Yes            No     Fiber optic  ...                  Yes   \n",
       "2          Yes           Yes     Fiber optic  ...                   No   \n",
       "3          Yes            No             DSL  ...                   No   \n",
       "4          Yes            No             DSL  ...                  Yes   \n",
       "\n",
       "           TechSupport          StreamingTV      StreamingMovies  \\\n",
       "0  No internet service  No internet service  No internet service   \n",
       "1                   No                  Yes                   No   \n",
       "2                   No                   No                   No   \n",
       "3                   No                   No                  Yes   \n",
       "4                   No                   No                   No   \n",
       "\n",
       "         Contract PaperlessBilling              PaymentMethod MonthlyCharges  \\\n",
       "0        Two year               No    Credit card (automatic)          24.10   \n",
       "1  Month-to-month              Yes    Credit card (automatic)          88.15   \n",
       "2  Month-to-month              Yes  Bank transfer (automatic)          74.95   \n",
       "3  Month-to-month              Yes           Electronic check          55.90   \n",
       "4  Month-to-month               No           Electronic check          53.45   \n",
       "\n",
       "  TotalCharges  Churn  \n",
       "0      1734.65     No  \n",
       "1       3973.2     No  \n",
       "2      2869.85    Yes  \n",
       "3        238.5     No  \n",
       "4        119.5     No  \n",
       "\n",
       "[5 rows x 22 columns]"
      ]
     },
     "execution_count": 2,
     "metadata": {},
     "output_type": "execute_result"
    }
   ],
   "source": [
    "df = pd.read_csv('/kaggle/input/telecom-users-dataset/telecom_users.csv')\n",
    "print(df.shape)\n",
    "df.head()"
   ]
  },
  {
   "cell_type": "code",
   "execution_count": 3,
   "metadata": {
    "execution": {
     "iopub.execute_input": "2021-06-17T14:32:28.775343Z",
     "iopub.status.busy": "2021-06-17T14:32:28.774462Z",
     "iopub.status.idle": "2021-06-17T14:32:28.794601Z",
     "shell.execute_reply": "2021-06-17T14:32:28.794012Z",
     "shell.execute_reply.started": "2021-06-17T14:30:07.070312Z"
    },
    "papermill": {
     "duration": 0.076314,
     "end_time": "2021-06-17T14:32:28.794867",
     "exception": false,
     "start_time": "2021-06-17T14:32:28.718553",
     "status": "completed"
    },
    "tags": []
   },
   "outputs": [
    {
     "name": "stdout",
     "output_type": "stream",
     "text": [
      "<class 'pandas.core.frame.DataFrame'>\n",
      "RangeIndex: 5986 entries, 0 to 5985\n",
      "Data columns (total 22 columns):\n",
      " #   Column            Non-Null Count  Dtype  \n",
      "---  ------            --------------  -----  \n",
      " 0   Unnamed: 0        5986 non-null   int64  \n",
      " 1   customerID        5986 non-null   object \n",
      " 2   gender            5986 non-null   object \n",
      " 3   SeniorCitizen     5986 non-null   int64  \n",
      " 4   Partner           5986 non-null   object \n",
      " 5   Dependents        5986 non-null   object \n",
      " 6   tenure            5986 non-null   int64  \n",
      " 7   PhoneService      5986 non-null   object \n",
      " 8   MultipleLines     5986 non-null   object \n",
      " 9   InternetService   5986 non-null   object \n",
      " 10  OnlineSecurity    5986 non-null   object \n",
      " 11  OnlineBackup      5986 non-null   object \n",
      " 12  DeviceProtection  5986 non-null   object \n",
      " 13  TechSupport       5986 non-null   object \n",
      " 14  StreamingTV       5986 non-null   object \n",
      " 15  StreamingMovies   5986 non-null   object \n",
      " 16  Contract          5986 non-null   object \n",
      " 17  PaperlessBilling  5986 non-null   object \n",
      " 18  PaymentMethod     5986 non-null   object \n",
      " 19  MonthlyCharges    5986 non-null   float64\n",
      " 20  TotalCharges      5986 non-null   object \n",
      " 21  Churn             5986 non-null   object \n",
      "dtypes: float64(1), int64(3), object(18)\n",
      "memory usage: 1.0+ MB\n"
     ]
    }
   ],
   "source": [
    "df.info()"
   ]
  },
  {
   "cell_type": "markdown",
   "metadata": {
    "papermill": {
     "duration": 0.037986,
     "end_time": "2021-06-17T14:32:28.872059",
     "exception": false,
     "start_time": "2021-06-17T14:32:28.834073",
     "status": "completed"
    },
    "tags": []
   },
   "source": [
    "* Data has no null variables so that is great.\n",
    "* We do not need some of these columns in both data analysis and prediction approaches.\n",
    "* Also 'Yes' and 'No' is not ideal to have a classification model so I will change them to 1 = 'Yes' and 0 = 'No'."
   ]
  },
  {
   "cell_type": "code",
   "execution_count": 4,
   "metadata": {
    "execution": {
     "iopub.execute_input": "2021-06-17T14:32:28.968502Z",
     "iopub.status.busy": "2021-06-17T14:32:28.967569Z",
     "iopub.status.idle": "2021-06-17T14:32:29.044028Z",
     "shell.execute_reply": "2021-06-17T14:32:29.043101Z",
     "shell.execute_reply.started": "2021-06-17T14:30:07.107093Z"
    },
    "papermill": {
     "duration": 0.1293,
     "end_time": "2021-06-17T14:32:29.044273",
     "exception": false,
     "start_time": "2021-06-17T14:32:28.914973",
     "status": "completed"
    },
    "tags": []
   },
   "outputs": [],
   "source": [
    "df = df.drop(['Unnamed: 0', 'customerID'], axis=1)\n",
    "df = df.replace('No', 0)\n",
    "df = df.replace('Yes', 1)\n",
    "df = df.replace('No internet service', 0)"
   ]
  },
  {
   "cell_type": "code",
   "execution_count": 5,
   "metadata": {
    "execution": {
     "iopub.execute_input": "2021-06-17T14:32:29.187029Z",
     "iopub.status.busy": "2021-06-17T14:32:29.186039Z",
     "iopub.status.idle": "2021-06-17T14:32:29.195542Z",
     "shell.execute_reply": "2021-06-17T14:32:29.194388Z",
     "shell.execute_reply.started": "2021-06-17T14:30:07.173569Z"
    },
    "papermill": {
     "duration": 0.091289,
     "end_time": "2021-06-17T14:32:29.195805",
     "exception": false,
     "start_time": "2021-06-17T14:32:29.104516",
     "status": "completed"
    },
    "tags": []
   },
   "outputs": [
    {
     "data": {
      "text/html": [
       "<div>\n",
       "<style scoped>\n",
       "    .dataframe tbody tr th:only-of-type {\n",
       "        vertical-align: middle;\n",
       "    }\n",
       "\n",
       "    .dataframe tbody tr th {\n",
       "        vertical-align: top;\n",
       "    }\n",
       "\n",
       "    .dataframe thead th {\n",
       "        text-align: right;\n",
       "    }\n",
       "</style>\n",
       "<table border=\"1\" class=\"dataframe\">\n",
       "  <thead>\n",
       "    <tr style=\"text-align: right;\">\n",
       "      <th></th>\n",
       "      <th>gender</th>\n",
       "      <th>SeniorCitizen</th>\n",
       "      <th>Partner</th>\n",
       "      <th>Dependents</th>\n",
       "      <th>tenure</th>\n",
       "      <th>PhoneService</th>\n",
       "      <th>MultipleLines</th>\n",
       "      <th>InternetService</th>\n",
       "      <th>OnlineSecurity</th>\n",
       "      <th>OnlineBackup</th>\n",
       "      <th>DeviceProtection</th>\n",
       "      <th>TechSupport</th>\n",
       "      <th>StreamingTV</th>\n",
       "      <th>StreamingMovies</th>\n",
       "      <th>Contract</th>\n",
       "      <th>PaperlessBilling</th>\n",
       "      <th>PaymentMethod</th>\n",
       "      <th>MonthlyCharges</th>\n",
       "      <th>TotalCharges</th>\n",
       "      <th>Churn</th>\n",
       "    </tr>\n",
       "  </thead>\n",
       "  <tbody>\n",
       "    <tr>\n",
       "      <th>0</th>\n",
       "      <td>Male</td>\n",
       "      <td>0</td>\n",
       "      <td>1</td>\n",
       "      <td>1</td>\n",
       "      <td>72</td>\n",
       "      <td>1</td>\n",
       "      <td>1</td>\n",
       "      <td>0</td>\n",
       "      <td>0</td>\n",
       "      <td>0</td>\n",
       "      <td>0</td>\n",
       "      <td>0</td>\n",
       "      <td>0</td>\n",
       "      <td>0</td>\n",
       "      <td>Two year</td>\n",
       "      <td>0</td>\n",
       "      <td>Credit card (automatic)</td>\n",
       "      <td>24.10</td>\n",
       "      <td>1734.65</td>\n",
       "      <td>0</td>\n",
       "    </tr>\n",
       "    <tr>\n",
       "      <th>1</th>\n",
       "      <td>Female</td>\n",
       "      <td>0</td>\n",
       "      <td>0</td>\n",
       "      <td>0</td>\n",
       "      <td>44</td>\n",
       "      <td>1</td>\n",
       "      <td>0</td>\n",
       "      <td>Fiber optic</td>\n",
       "      <td>0</td>\n",
       "      <td>1</td>\n",
       "      <td>1</td>\n",
       "      <td>0</td>\n",
       "      <td>1</td>\n",
       "      <td>0</td>\n",
       "      <td>Month-to-month</td>\n",
       "      <td>1</td>\n",
       "      <td>Credit card (automatic)</td>\n",
       "      <td>88.15</td>\n",
       "      <td>3973.2</td>\n",
       "      <td>0</td>\n",
       "    </tr>\n",
       "    <tr>\n",
       "      <th>2</th>\n",
       "      <td>Female</td>\n",
       "      <td>1</td>\n",
       "      <td>1</td>\n",
       "      <td>0</td>\n",
       "      <td>38</td>\n",
       "      <td>1</td>\n",
       "      <td>1</td>\n",
       "      <td>Fiber optic</td>\n",
       "      <td>0</td>\n",
       "      <td>0</td>\n",
       "      <td>0</td>\n",
       "      <td>0</td>\n",
       "      <td>0</td>\n",
       "      <td>0</td>\n",
       "      <td>Month-to-month</td>\n",
       "      <td>1</td>\n",
       "      <td>Bank transfer (automatic)</td>\n",
       "      <td>74.95</td>\n",
       "      <td>2869.85</td>\n",
       "      <td>1</td>\n",
       "    </tr>\n",
       "    <tr>\n",
       "      <th>3</th>\n",
       "      <td>Male</td>\n",
       "      <td>0</td>\n",
       "      <td>0</td>\n",
       "      <td>0</td>\n",
       "      <td>4</td>\n",
       "      <td>1</td>\n",
       "      <td>0</td>\n",
       "      <td>DSL</td>\n",
       "      <td>0</td>\n",
       "      <td>0</td>\n",
       "      <td>0</td>\n",
       "      <td>0</td>\n",
       "      <td>0</td>\n",
       "      <td>1</td>\n",
       "      <td>Month-to-month</td>\n",
       "      <td>1</td>\n",
       "      <td>Electronic check</td>\n",
       "      <td>55.90</td>\n",
       "      <td>238.5</td>\n",
       "      <td>0</td>\n",
       "    </tr>\n",
       "    <tr>\n",
       "      <th>4</th>\n",
       "      <td>Male</td>\n",
       "      <td>0</td>\n",
       "      <td>0</td>\n",
       "      <td>0</td>\n",
       "      <td>2</td>\n",
       "      <td>1</td>\n",
       "      <td>0</td>\n",
       "      <td>DSL</td>\n",
       "      <td>1</td>\n",
       "      <td>0</td>\n",
       "      <td>1</td>\n",
       "      <td>0</td>\n",
       "      <td>0</td>\n",
       "      <td>0</td>\n",
       "      <td>Month-to-month</td>\n",
       "      <td>0</td>\n",
       "      <td>Electronic check</td>\n",
       "      <td>53.45</td>\n",
       "      <td>119.5</td>\n",
       "      <td>0</td>\n",
       "    </tr>\n",
       "  </tbody>\n",
       "</table>\n",
       "</div>"
      ],
      "text/plain": [
       "   gender  SeniorCitizen  Partner  Dependents  tenure  PhoneService  \\\n",
       "0    Male              0        1           1      72             1   \n",
       "1  Female              0        0           0      44             1   \n",
       "2  Female              1        1           0      38             1   \n",
       "3    Male              0        0           0       4             1   \n",
       "4    Male              0        0           0       2             1   \n",
       "\n",
       "  MultipleLines InternetService  OnlineSecurity  OnlineBackup  \\\n",
       "0             1               0               0             0   \n",
       "1             0     Fiber optic               0             1   \n",
       "2             1     Fiber optic               0             0   \n",
       "3             0             DSL               0             0   \n",
       "4             0             DSL               1             0   \n",
       "\n",
       "   DeviceProtection  TechSupport  StreamingTV  StreamingMovies  \\\n",
       "0                 0            0            0                0   \n",
       "1                 1            0            1                0   \n",
       "2                 0            0            0                0   \n",
       "3                 0            0            0                1   \n",
       "4                 1            0            0                0   \n",
       "\n",
       "         Contract  PaperlessBilling              PaymentMethod  \\\n",
       "0        Two year                 0    Credit card (automatic)   \n",
       "1  Month-to-month                 1    Credit card (automatic)   \n",
       "2  Month-to-month                 1  Bank transfer (automatic)   \n",
       "3  Month-to-month                 1           Electronic check   \n",
       "4  Month-to-month                 0           Electronic check   \n",
       "\n",
       "   MonthlyCharges TotalCharges  Churn  \n",
       "0           24.10      1734.65      0  \n",
       "1           88.15       3973.2      0  \n",
       "2           74.95      2869.85      1  \n",
       "3           55.90        238.5      0  \n",
       "4           53.45        119.5      0  "
      ]
     },
     "execution_count": 5,
     "metadata": {},
     "output_type": "execute_result"
    }
   ],
   "source": [
    "df.head()"
   ]
  },
  {
   "cell_type": "code",
   "execution_count": 6,
   "metadata": {
    "execution": {
     "iopub.execute_input": "2021-06-17T14:32:29.305028Z",
     "iopub.status.busy": "2021-06-17T14:32:29.303899Z",
     "iopub.status.idle": "2021-06-17T14:32:29.309995Z",
     "shell.execute_reply": "2021-06-17T14:32:29.309324Z",
     "shell.execute_reply.started": "2021-06-17T14:30:07.203588Z"
    },
    "papermill": {
     "duration": 0.065682,
     "end_time": "2021-06-17T14:32:29.310152",
     "exception": false,
     "start_time": "2021-06-17T14:32:29.244470",
     "status": "completed"
    },
    "tags": []
   },
   "outputs": [
    {
     "data": {
      "text/plain": [
       "Fiber optic    2627\n",
       "DSL            2068\n",
       "0              1291\n",
       "Name: InternetService, dtype: int64"
      ]
     },
     "execution_count": 6,
     "metadata": {},
     "output_type": "execute_result"
    }
   ],
   "source": [
    "df['InternetService'].value_counts()"
   ]
  },
  {
   "cell_type": "code",
   "execution_count": 7,
   "metadata": {
    "execution": {
     "iopub.execute_input": "2021-06-17T14:32:29.391795Z",
     "iopub.status.busy": "2021-06-17T14:32:29.390787Z",
     "iopub.status.idle": "2021-06-17T14:32:29.400433Z",
     "shell.execute_reply": "2021-06-17T14:32:29.400980Z",
     "shell.execute_reply.started": "2021-06-17T14:30:07.220545Z"
    },
    "papermill": {
     "duration": 0.051916,
     "end_time": "2021-06-17T14:32:29.401159",
     "exception": false,
     "start_time": "2021-06-17T14:32:29.349243",
     "status": "completed"
    },
    "tags": []
   },
   "outputs": [],
   "source": [
    "df['InternetService'] = df['InternetService'].replace('Fiber optic', 2)\n",
    "df['InternetService'] = df['InternetService'].replace('DSL', 1)"
   ]
  },
  {
   "cell_type": "markdown",
   "metadata": {
    "papermill": {
     "duration": 0.038941,
     "end_time": "2021-06-17T14:32:29.477696",
     "exception": false,
     "start_time": "2021-06-17T14:32:29.438755",
     "status": "completed"
    },
    "tags": []
   },
   "source": [
    "**Internet service:**\n",
    "* Fiber optic = 2\n",
    "* DSL = 1"
   ]
  },
  {
   "cell_type": "code",
   "execution_count": 8,
   "metadata": {
    "execution": {
     "iopub.execute_input": "2021-06-17T14:32:29.586763Z",
     "iopub.status.busy": "2021-06-17T14:32:29.585744Z",
     "iopub.status.idle": "2021-06-17T14:32:29.599026Z",
     "shell.execute_reply": "2021-06-17T14:32:29.599787Z",
     "shell.execute_reply.started": "2021-06-17T14:30:07.232799Z"
    },
    "papermill": {
     "duration": 0.064036,
     "end_time": "2021-06-17T14:32:29.600110",
     "exception": false,
     "start_time": "2021-06-17T14:32:29.536074",
     "status": "completed"
    },
    "tags": []
   },
   "outputs": [
    {
     "data": {
      "text/plain": [
       "Month-to-month    3269\n",
       "Two year          1441\n",
       "One year          1276\n",
       "Name: Contract, dtype: int64"
      ]
     },
     "execution_count": 8,
     "metadata": {},
     "output_type": "execute_result"
    }
   ],
   "source": [
    "df['Contract'].value_counts()"
   ]
  },
  {
   "cell_type": "code",
   "execution_count": 9,
   "metadata": {
    "execution": {
     "iopub.execute_input": "2021-06-17T14:32:29.699817Z",
     "iopub.status.busy": "2021-06-17T14:32:29.698875Z",
     "iopub.status.idle": "2021-06-17T14:32:29.710918Z",
     "shell.execute_reply": "2021-06-17T14:32:29.710352Z",
     "shell.execute_reply.started": "2021-06-17T14:30:07.263194Z"
    },
    "papermill": {
     "duration": 0.05425,
     "end_time": "2021-06-17T14:32:29.711069",
     "exception": false,
     "start_time": "2021-06-17T14:32:29.656819",
     "status": "completed"
    },
    "tags": []
   },
   "outputs": [],
   "source": [
    "df['Contract'] = df['Contract'].replace('Two year', 24)\n",
    "df['Contract'] = df['Contract'].replace('One year', 12)\n",
    "df['Contract'] = df['Contract'].replace('Month-to-month', 1)"
   ]
  },
  {
   "cell_type": "markdown",
   "metadata": {
    "papermill": {
     "duration": 0.042313,
     "end_time": "2021-06-17T14:32:29.791915",
     "exception": false,
     "start_time": "2021-06-17T14:32:29.749602",
     "status": "completed"
    },
    "tags": []
   },
   "source": [
    "**Contract:**\n",
    "* 'Month-to-month' = 1\n",
    "* 'Two Year' = 24\n",
    "* 'One Year' = 12"
   ]
  },
  {
   "cell_type": "code",
   "execution_count": 10,
   "metadata": {
    "execution": {
     "iopub.execute_input": "2021-06-17T14:32:29.890256Z",
     "iopub.status.busy": "2021-06-17T14:32:29.889296Z",
     "iopub.status.idle": "2021-06-17T14:32:29.893147Z",
     "shell.execute_reply": "2021-06-17T14:32:29.893739Z",
     "shell.execute_reply.started": "2021-06-17T14:30:07.282625Z"
    },
    "papermill": {
     "duration": 0.056738,
     "end_time": "2021-06-17T14:32:29.893942",
     "exception": false,
     "start_time": "2021-06-17T14:32:29.837204",
     "status": "completed"
    },
    "tags": []
   },
   "outputs": [
    {
     "data": {
      "text/plain": [
       "Electronic check             2006\n",
       "Mailed check                 1369\n",
       "Bank transfer (automatic)    1308\n",
       "Credit card (automatic)      1303\n",
       "Name: PaymentMethod, dtype: int64"
      ]
     },
     "execution_count": 10,
     "metadata": {},
     "output_type": "execute_result"
    }
   ],
   "source": [
    "df['PaymentMethod'].value_counts()"
   ]
  },
  {
   "cell_type": "code",
   "execution_count": 11,
   "metadata": {
    "execution": {
     "iopub.execute_input": "2021-06-17T14:32:29.978018Z",
     "iopub.status.busy": "2021-06-17T14:32:29.977047Z",
     "iopub.status.idle": "2021-06-17T14:32:29.992882Z",
     "shell.execute_reply": "2021-06-17T14:32:29.993541Z",
     "shell.execute_reply.started": "2021-06-17T14:30:07.305169Z"
    },
    "papermill": {
     "duration": 0.058361,
     "end_time": "2021-06-17T14:32:29.993723",
     "exception": false,
     "start_time": "2021-06-17T14:32:29.935362",
     "status": "completed"
    },
    "tags": []
   },
   "outputs": [],
   "source": [
    "df['PaymentMethod'] = df['PaymentMethod'].replace('Electronic check', 1)\n",
    "df['PaymentMethod'] = df['PaymentMethod'].replace('Mailed check', 2)\n",
    "df['PaymentMethod'] = df['PaymentMethod'].replace('Bank transfer (automatic)', 3)\n",
    "df['PaymentMethod'] = df['PaymentMethod'].replace('Credit card (automatic)', 4)\n",
    "\n",
    "df['MultipleLines'] = df['MultipleLines'].replace('No phone service', 0)"
   ]
  },
  {
   "cell_type": "markdown",
   "metadata": {
    "papermill": {
     "duration": 0.039641,
     "end_time": "2021-06-17T14:32:30.073610",
     "exception": false,
     "start_time": "2021-06-17T14:32:30.033969",
     "status": "completed"
    },
    "tags": []
   },
   "source": [
    "**Payment Method:**\n",
    "* 'Electronic Check' = 1\n",
    "* 'Mailed Check' = 2\n",
    "* 'Bank Transfer' = 3\n",
    "* 'Credit Card' = 4"
   ]
  },
  {
   "cell_type": "code",
   "execution_count": 12,
   "metadata": {
    "execution": {
     "iopub.execute_input": "2021-06-17T14:32:30.163155Z",
     "iopub.status.busy": "2021-06-17T14:32:30.154563Z",
     "iopub.status.idle": "2021-06-17T14:32:30.166063Z",
     "shell.execute_reply": "2021-06-17T14:32:30.165371Z",
     "shell.execute_reply.started": "2021-06-17T14:30:07.327413Z"
    },
    "papermill": {
     "duration": 0.054549,
     "end_time": "2021-06-17T14:32:30.166207",
     "exception": false,
     "start_time": "2021-06-17T14:32:30.111658",
     "status": "completed"
    },
    "tags": []
   },
   "outputs": [],
   "source": [
    "df['gender'] = df['gender'].replace('Male', 1)\n",
    "df['gender'] = df['gender'].replace('Female', 0)"
   ]
  },
  {
   "cell_type": "markdown",
   "metadata": {
    "papermill": {
     "duration": 0.037722,
     "end_time": "2021-06-17T14:32:30.242712",
     "exception": false,
     "start_time": "2021-06-17T14:32:30.204990",
     "status": "completed"
    },
    "tags": []
   },
   "source": [
    "Also as you can see on the above, we can change the *contract*, *internet service* and *payment method* types as well without changing column purpose. I labeled them accordingly so I will be showing these labels when we are visualizing the data."
   ]
  },
  {
   "cell_type": "markdown",
   "metadata": {
    "papermill": {
     "duration": 0.04056,
     "end_time": "2021-06-17T14:32:30.322261",
     "exception": false,
     "start_time": "2021-06-17T14:32:30.281701",
     "status": "completed"
    },
    "tags": []
   },
   "source": [
    "And finally, I do think that montly and total charge values can be integers. They are determinant factors but their fraction values are not that important."
   ]
  },
  {
   "cell_type": "code",
   "execution_count": 13,
   "metadata": {
    "execution": {
     "iopub.execute_input": "2021-06-17T14:32:30.410404Z",
     "iopub.status.busy": "2021-06-17T14:32:30.409676Z",
     "iopub.status.idle": "2021-06-17T14:32:30.413404Z",
     "shell.execute_reply": "2021-06-17T14:32:30.412862Z",
     "shell.execute_reply.started": "2021-06-17T14:30:07.350462Z"
    },
    "papermill": {
     "duration": 0.051988,
     "end_time": "2021-06-17T14:32:30.413551",
     "exception": false,
     "start_time": "2021-06-17T14:32:30.361563",
     "status": "completed"
    },
    "tags": []
   },
   "outputs": [],
   "source": [
    "df['MultipleLines'] = df['MultipleLines'].astype(int)\n",
    "df['MonthlyCharges'] = df['MonthlyCharges'].astype(int)\n",
    "df['TotalCharges'] = df['TotalCharges'].astype(str)"
   ]
  },
  {
   "cell_type": "code",
   "execution_count": 14,
   "metadata": {
    "execution": {
     "iopub.execute_input": "2021-06-17T14:32:30.498488Z",
     "iopub.status.busy": "2021-06-17T14:32:30.497796Z",
     "iopub.status.idle": "2021-06-17T14:32:30.501307Z",
     "shell.execute_reply": "2021-06-17T14:32:30.500741Z",
     "shell.execute_reply.started": "2021-06-17T14:30:07.369882Z"
    },
    "papermill": {
     "duration": 0.049711,
     "end_time": "2021-06-17T14:32:30.501460",
     "exception": false,
     "start_time": "2021-06-17T14:32:30.451749",
     "status": "completed"
    },
    "tags": []
   },
   "outputs": [],
   "source": [
    "df['TotalCharges'] = df['TotalCharges'].replace(' ', 0)\n",
    "df['TotalCharges'] = df['TotalCharges'].astype(float)\n",
    "total_charge = df['TotalCharges']"
   ]
  },
  {
   "cell_type": "code",
   "execution_count": 15,
   "metadata": {
    "execution": {
     "iopub.execute_input": "2021-06-17T14:32:30.698817Z",
     "iopub.status.busy": "2021-06-17T14:32:30.584434Z",
     "iopub.status.idle": "2021-06-17T14:32:33.490856Z",
     "shell.execute_reply": "2021-06-17T14:32:33.492005Z",
     "shell.execute_reply.started": "2021-06-17T14:30:07.397323Z"
    },
    "papermill": {
     "duration": 2.952014,
     "end_time": "2021-06-17T14:32:33.492202",
     "exception": false,
     "start_time": "2021-06-17T14:32:30.540188",
     "status": "completed"
    },
    "tags": []
   },
   "outputs": [
    {
     "name": "stderr",
     "output_type": "stream",
     "text": [
      "/opt/conda/lib/python3.7/site-packages/ipykernel_launcher.py:2: SettingWithCopyWarning: \n",
      "A value is trying to be set on a copy of a slice from a DataFrame\n",
      "\n",
      "See the caveats in the documentation: https://pandas.pydata.org/pandas-docs/stable/user_guide/indexing.html#returning-a-view-versus-a-copy\n",
      "  \n"
     ]
    }
   ],
   "source": [
    "for i in range(0, len(df)-1):\n",
    "    total_charge[i] = int(total_charge[i])\n",
    "df['TotalCharges'] = df['TotalCharges'].astype(int)"
   ]
  },
  {
   "cell_type": "code",
   "execution_count": 16,
   "metadata": {
    "execution": {
     "iopub.execute_input": "2021-06-17T14:32:33.589464Z",
     "iopub.status.busy": "2021-06-17T14:32:33.588769Z",
     "iopub.status.idle": "2021-06-17T14:32:33.594012Z",
     "shell.execute_reply": "2021-06-17T14:32:33.593443Z",
     "shell.execute_reply.started": "2021-06-17T14:30:10.276177Z"
    },
    "papermill": {
     "duration": 0.060676,
     "end_time": "2021-06-17T14:32:33.594169",
     "exception": false,
     "start_time": "2021-06-17T14:32:33.533493",
     "status": "completed"
    },
    "tags": []
   },
   "outputs": [
    {
     "data": {
      "text/html": [
       "<div>\n",
       "<style scoped>\n",
       "    .dataframe tbody tr th:only-of-type {\n",
       "        vertical-align: middle;\n",
       "    }\n",
       "\n",
       "    .dataframe tbody tr th {\n",
       "        vertical-align: top;\n",
       "    }\n",
       "\n",
       "    .dataframe thead th {\n",
       "        text-align: right;\n",
       "    }\n",
       "</style>\n",
       "<table border=\"1\" class=\"dataframe\">\n",
       "  <thead>\n",
       "    <tr style=\"text-align: right;\">\n",
       "      <th></th>\n",
       "      <th>gender</th>\n",
       "      <th>SeniorCitizen</th>\n",
       "      <th>Partner</th>\n",
       "      <th>Dependents</th>\n",
       "      <th>tenure</th>\n",
       "      <th>PhoneService</th>\n",
       "      <th>MultipleLines</th>\n",
       "      <th>InternetService</th>\n",
       "      <th>OnlineSecurity</th>\n",
       "      <th>OnlineBackup</th>\n",
       "      <th>DeviceProtection</th>\n",
       "      <th>TechSupport</th>\n",
       "      <th>StreamingTV</th>\n",
       "      <th>StreamingMovies</th>\n",
       "      <th>Contract</th>\n",
       "      <th>PaperlessBilling</th>\n",
       "      <th>PaymentMethod</th>\n",
       "      <th>MonthlyCharges</th>\n",
       "      <th>TotalCharges</th>\n",
       "      <th>Churn</th>\n",
       "    </tr>\n",
       "  </thead>\n",
       "  <tbody>\n",
       "    <tr>\n",
       "      <th>0</th>\n",
       "      <td>1</td>\n",
       "      <td>0</td>\n",
       "      <td>1</td>\n",
       "      <td>1</td>\n",
       "      <td>72</td>\n",
       "      <td>1</td>\n",
       "      <td>1</td>\n",
       "      <td>0</td>\n",
       "      <td>0</td>\n",
       "      <td>0</td>\n",
       "      <td>0</td>\n",
       "      <td>0</td>\n",
       "      <td>0</td>\n",
       "      <td>0</td>\n",
       "      <td>24</td>\n",
       "      <td>0</td>\n",
       "      <td>4</td>\n",
       "      <td>24</td>\n",
       "      <td>1734</td>\n",
       "      <td>0</td>\n",
       "    </tr>\n",
       "    <tr>\n",
       "      <th>1</th>\n",
       "      <td>0</td>\n",
       "      <td>0</td>\n",
       "      <td>0</td>\n",
       "      <td>0</td>\n",
       "      <td>44</td>\n",
       "      <td>1</td>\n",
       "      <td>0</td>\n",
       "      <td>2</td>\n",
       "      <td>0</td>\n",
       "      <td>1</td>\n",
       "      <td>1</td>\n",
       "      <td>0</td>\n",
       "      <td>1</td>\n",
       "      <td>0</td>\n",
       "      <td>1</td>\n",
       "      <td>1</td>\n",
       "      <td>4</td>\n",
       "      <td>88</td>\n",
       "      <td>3973</td>\n",
       "      <td>0</td>\n",
       "    </tr>\n",
       "    <tr>\n",
       "      <th>2</th>\n",
       "      <td>0</td>\n",
       "      <td>1</td>\n",
       "      <td>1</td>\n",
       "      <td>0</td>\n",
       "      <td>38</td>\n",
       "      <td>1</td>\n",
       "      <td>1</td>\n",
       "      <td>2</td>\n",
       "      <td>0</td>\n",
       "      <td>0</td>\n",
       "      <td>0</td>\n",
       "      <td>0</td>\n",
       "      <td>0</td>\n",
       "      <td>0</td>\n",
       "      <td>1</td>\n",
       "      <td>1</td>\n",
       "      <td>3</td>\n",
       "      <td>74</td>\n",
       "      <td>2869</td>\n",
       "      <td>1</td>\n",
       "    </tr>\n",
       "    <tr>\n",
       "      <th>3</th>\n",
       "      <td>1</td>\n",
       "      <td>0</td>\n",
       "      <td>0</td>\n",
       "      <td>0</td>\n",
       "      <td>4</td>\n",
       "      <td>1</td>\n",
       "      <td>0</td>\n",
       "      <td>1</td>\n",
       "      <td>0</td>\n",
       "      <td>0</td>\n",
       "      <td>0</td>\n",
       "      <td>0</td>\n",
       "      <td>0</td>\n",
       "      <td>1</td>\n",
       "      <td>1</td>\n",
       "      <td>1</td>\n",
       "      <td>1</td>\n",
       "      <td>55</td>\n",
       "      <td>238</td>\n",
       "      <td>0</td>\n",
       "    </tr>\n",
       "    <tr>\n",
       "      <th>4</th>\n",
       "      <td>1</td>\n",
       "      <td>0</td>\n",
       "      <td>0</td>\n",
       "      <td>0</td>\n",
       "      <td>2</td>\n",
       "      <td>1</td>\n",
       "      <td>0</td>\n",
       "      <td>1</td>\n",
       "      <td>1</td>\n",
       "      <td>0</td>\n",
       "      <td>1</td>\n",
       "      <td>0</td>\n",
       "      <td>0</td>\n",
       "      <td>0</td>\n",
       "      <td>1</td>\n",
       "      <td>0</td>\n",
       "      <td>1</td>\n",
       "      <td>53</td>\n",
       "      <td>119</td>\n",
       "      <td>0</td>\n",
       "    </tr>\n",
       "  </tbody>\n",
       "</table>\n",
       "</div>"
      ],
      "text/plain": [
       "   gender  SeniorCitizen  Partner  Dependents  tenure  PhoneService  \\\n",
       "0       1              0        1           1      72             1   \n",
       "1       0              0        0           0      44             1   \n",
       "2       0              1        1           0      38             1   \n",
       "3       1              0        0           0       4             1   \n",
       "4       1              0        0           0       2             1   \n",
       "\n",
       "   MultipleLines  InternetService  OnlineSecurity  OnlineBackup  \\\n",
       "0              1                0               0             0   \n",
       "1              0                2               0             1   \n",
       "2              1                2               0             0   \n",
       "3              0                1               0             0   \n",
       "4              0                1               1             0   \n",
       "\n",
       "   DeviceProtection  TechSupport  StreamingTV  StreamingMovies  Contract  \\\n",
       "0                 0            0            0                0        24   \n",
       "1                 1            0            1                0         1   \n",
       "2                 0            0            0                0         1   \n",
       "3                 0            0            0                1         1   \n",
       "4                 1            0            0                0         1   \n",
       "\n",
       "   PaperlessBilling  PaymentMethod  MonthlyCharges  TotalCharges  Churn  \n",
       "0                 0              4              24          1734      0  \n",
       "1                 1              4              88          3973      0  \n",
       "2                 1              3              74          2869      1  \n",
       "3                 1              1              55           238      0  \n",
       "4                 0              1              53           119      0  "
      ]
     },
     "execution_count": 16,
     "metadata": {},
     "output_type": "execute_result"
    }
   ],
   "source": [
    "df.head()"
   ]
  },
  {
   "cell_type": "code",
   "execution_count": 17,
   "metadata": {
    "execution": {
     "iopub.execute_input": "2021-06-17T14:32:33.690196Z",
     "iopub.status.busy": "2021-06-17T14:32:33.679936Z",
     "iopub.status.idle": "2021-06-17T14:32:33.695109Z",
     "shell.execute_reply": "2021-06-17T14:32:33.694541Z",
     "shell.execute_reply.started": "2021-06-17T14:30:10.297233Z"
    },
    "papermill": {
     "duration": 0.061296,
     "end_time": "2021-06-17T14:32:33.695255",
     "exception": false,
     "start_time": "2021-06-17T14:32:33.633959",
     "status": "completed"
    },
    "tags": []
   },
   "outputs": [
    {
     "name": "stdout",
     "output_type": "stream",
     "text": [
      "<class 'pandas.core.frame.DataFrame'>\n",
      "RangeIndex: 5986 entries, 0 to 5985\n",
      "Data columns (total 20 columns):\n",
      " #   Column            Non-Null Count  Dtype\n",
      "---  ------            --------------  -----\n",
      " 0   gender            5986 non-null   int64\n",
      " 1   SeniorCitizen     5986 non-null   int64\n",
      " 2   Partner           5986 non-null   int64\n",
      " 3   Dependents        5986 non-null   int64\n",
      " 4   tenure            5986 non-null   int64\n",
      " 5   PhoneService      5986 non-null   int64\n",
      " 6   MultipleLines     5986 non-null   int64\n",
      " 7   InternetService   5986 non-null   int64\n",
      " 8   OnlineSecurity    5986 non-null   int64\n",
      " 9   OnlineBackup      5986 non-null   int64\n",
      " 10  DeviceProtection  5986 non-null   int64\n",
      " 11  TechSupport       5986 non-null   int64\n",
      " 12  StreamingTV       5986 non-null   int64\n",
      " 13  StreamingMovies   5986 non-null   int64\n",
      " 14  Contract          5986 non-null   int64\n",
      " 15  PaperlessBilling  5986 non-null   int64\n",
      " 16  PaymentMethod     5986 non-null   int64\n",
      " 17  MonthlyCharges    5986 non-null   int64\n",
      " 18  TotalCharges      5986 non-null   int64\n",
      " 19  Churn             5986 non-null   int64\n",
      "dtypes: int64(20)\n",
      "memory usage: 935.4 KB\n"
     ]
    }
   ],
   "source": [
    "df.info()"
   ]
  },
  {
   "cell_type": "markdown",
   "metadata": {
    "papermill": {
     "duration": 0.041484,
     "end_time": "2021-06-17T14:32:33.777576",
     "exception": false,
     "start_time": "2021-06-17T14:32:33.736092",
     "status": "completed"
    },
    "tags": []
   },
   "source": [
    "Now the data is ready. Every column is in integer form.\n",
    "I will be looking for correlations of the columns with the *Churn* and if I find any uncorrelated columns I will drop them."
   ]
  },
  {
   "cell_type": "markdown",
   "metadata": {
    "papermill": {
     "duration": 0.040368,
     "end_time": "2021-06-17T14:32:33.859704",
     "exception": false,
     "start_time": "2021-06-17T14:32:33.819336",
     "status": "completed"
    },
    "tags": []
   },
   "source": [
    "# Simple Data Analysis"
   ]
  },
  {
   "cell_type": "code",
   "execution_count": 18,
   "metadata": {
    "execution": {
     "iopub.execute_input": "2021-06-17T14:32:33.948775Z",
     "iopub.status.busy": "2021-06-17T14:32:33.945338Z",
     "iopub.status.idle": "2021-06-17T14:32:34.200460Z",
     "shell.execute_reply": "2021-06-17T14:32:34.199748Z",
     "shell.execute_reply.started": "2021-06-17T14:30:10.324531Z"
    },
    "papermill": {
     "duration": 0.300294,
     "end_time": "2021-06-17T14:32:34.200606",
     "exception": false,
     "start_time": "2021-06-17T14:32:33.900312",
     "status": "completed"
    },
    "tags": []
   },
   "outputs": [
    {
     "data": {
      "text/plain": [
       "<AxesSubplot:xlabel='Partner', ylabel='MonthlyCharges'>"
      ]
     },
     "execution_count": 18,
     "metadata": {},
     "output_type": "execute_result"
    },
    {
     "data": {
      "image/png": "[encoded data removed]",
      "text/plain": [
       "<Figure size 432x288 with 1 Axes>"
      ]
     },
     "metadata": {
      "needs_background": "light"
     },
     "output_type": "display_data"
    }
   ],
   "source": [
    "sns.barplot(x='Partner', y='MonthlyCharges', data=df)"
   ]
  },
  {
   "cell_type": "code",
   "execution_count": 19,
   "metadata": {
    "execution": {
     "iopub.execute_input": "2021-06-17T14:32:34.289191Z",
     "iopub.status.busy": "2021-06-17T14:32:34.288473Z",
     "iopub.status.idle": "2021-06-17T14:32:34.562825Z",
     "shell.execute_reply": "2021-06-17T14:32:34.562159Z",
     "shell.execute_reply.started": "2021-06-17T14:30:10.557727Z"
    },
    "papermill": {
     "duration": 0.320946,
     "end_time": "2021-06-17T14:32:34.562987",
     "exception": false,
     "start_time": "2021-06-17T14:32:34.242041",
     "status": "completed"
    },
    "tags": []
   },
   "outputs": [
    {
     "data": {
      "text/plain": [
       "Text(0, 0.5, 'Charge')"
      ]
     },
     "execution_count": 19,
     "metadata": {},
     "output_type": "execute_result"
    },
    {
     "data": {
      "image/png": "[encoded data removed]",
      "text/plain": [
       "<Figure size 432x288 with 1 Axes>"
      ]
     },
     "metadata": {
      "needs_background": "light"
     },
     "output_type": "display_data"
    }
   ],
   "source": [
    "sns.barplot(x='Contract', y='MonthlyCharges', data=df)\n",
    "plt.ylabel('Charge')"
   ]
  },
  {
   "cell_type": "code",
   "execution_count": 20,
   "metadata": {
    "execution": {
     "iopub.execute_input": "2021-06-17T14:32:34.652858Z",
     "iopub.status.busy": "2021-06-17T14:32:34.652101Z",
     "iopub.status.idle": "2021-06-17T14:32:34.965164Z",
     "shell.execute_reply": "2021-06-17T14:32:34.965640Z",
     "shell.execute_reply.started": "2021-06-17T14:30:10.794541Z"
    },
    "papermill": {
     "duration": 0.361348,
     "end_time": "2021-06-17T14:32:34.965817",
     "exception": false,
     "start_time": "2021-06-17T14:32:34.604469",
     "status": "completed"
    },
    "tags": []
   },
   "outputs": [
    {
     "data": {
      "text/plain": [
       "Text(0.5, 0, 'Non senior - Senior')"
      ]
     },
     "execution_count": 20,
     "metadata": {},
     "output_type": "execute_result"
    },
    {
     "data": {
      "image/png": "[encoded data removed]",
      "text/plain": [
       "<Figure size 432x288 with 1 Axes>"
      ]
     },
     "metadata": {
      "needs_background": "light"
     },
     "output_type": "display_data"
    }
   ],
   "source": [
    "sns.barplot(x='SeniorCitizen', y='MonthlyCharges', data=df)\n",
    "plt.xlabel('Non senior - Senior')"
   ]
  },
  {
   "cell_type": "code",
   "execution_count": 21,
   "metadata": {
    "execution": {
     "iopub.execute_input": "2021-06-17T14:32:35.058986Z",
     "iopub.status.busy": "2021-06-17T14:32:35.057948Z",
     "iopub.status.idle": "2021-06-17T14:32:35.314730Z",
     "shell.execute_reply": "2021-06-17T14:32:35.314178Z",
     "shell.execute_reply.started": "2021-06-17T14:30:11.084270Z"
    },
    "papermill": {
     "duration": 0.305151,
     "end_time": "2021-06-17T14:32:35.314889",
     "exception": false,
     "start_time": "2021-06-17T14:32:35.009738",
     "status": "completed"
    },
    "tags": []
   },
   "outputs": [
    {
     "data": {
      "text/plain": [
       "Text(0.5, 0, 'No Internet - DSL - Fiber optic')"
      ]
     },
     "execution_count": 21,
     "metadata": {},
     "output_type": "execute_result"
    },
    {
     "data": {
      "image/png": "[encoded data removed]",
      "text/plain": [
       "<Figure size 432x288 with 1 Axes>"
      ]
     },
     "metadata": {
      "needs_background": "light"
     },
     "output_type": "display_data"
    }
   ],
   "source": [
    "sns.barplot(x='InternetService', y='MonthlyCharges', data=df)\n",
    "plt.xlabel('No Internet - DSL - Fiber optic')"
   ]
  },
  {
   "cell_type": "markdown",
   "metadata": {
    "papermill": {
     "duration": 0.045463,
     "end_time": "2021-06-17T14:32:35.404377",
     "exception": false,
     "start_time": "2021-06-17T14:32:35.358914",
     "status": "completed"
    },
    "tags": []
   },
   "source": [
    "* Having a partner or not having a partner does not effect the monthly charges that much, the effect is very minimal.\n",
    "* Contract year effects monthly costs. The contract with the most length has the lowest prices because of the commitment of the customer.\n",
    "* Senior citizens pays more than non senior citizens. That might be because younger people use more internet so their contracts have more throughput.\n",
    "* Fiber optic is the fastest and most reliable internet right now. It is not surprise that it is the most expensive one."
   ]
  },
  {
   "cell_type": "markdown",
   "metadata": {
    "papermill": {
     "duration": 0.0459,
     "end_time": "2021-06-17T14:32:35.493630",
     "exception": false,
     "start_time": "2021-06-17T14:32:35.447730",
     "status": "completed"
    },
    "tags": []
   },
   "source": [
    "# Prediction"
   ]
  },
  {
   "cell_type": "code",
   "execution_count": 22,
   "metadata": {
    "execution": {
     "iopub.execute_input": "2021-06-17T14:32:35.591536Z",
     "iopub.status.busy": "2021-06-17T14:32:35.590300Z",
     "iopub.status.idle": "2021-06-17T14:32:35.603813Z",
     "shell.execute_reply": "2021-06-17T14:32:35.603250Z",
     "shell.execute_reply.started": "2021-06-17T14:30:11.326391Z"
    },
    "papermill": {
     "duration": 0.064483,
     "end_time": "2021-06-17T14:32:35.603987",
     "exception": false,
     "start_time": "2021-06-17T14:32:35.539504",
     "status": "completed"
    },
    "tags": []
   },
   "outputs": [],
   "source": [
    "corr = df.corr()"
   ]
  },
  {
   "cell_type": "code",
   "execution_count": 23,
   "metadata": {
    "execution": {
     "iopub.execute_input": "2021-06-17T14:32:35.720788Z",
     "iopub.status.busy": "2021-06-17T14:32:35.711652Z",
     "iopub.status.idle": "2021-06-17T14:32:38.397444Z",
     "shell.execute_reply": "2021-06-17T14:32:38.397959Z",
     "shell.execute_reply.started": "2021-06-17T14:30:11.343812Z"
    },
    "papermill": {
     "duration": 2.750226,
     "end_time": "2021-06-17T14:32:38.398135",
     "exception": false,
     "start_time": "2021-06-17T14:32:35.647909",
     "status": "completed"
    },
    "tags": []
   },
   "outputs": [
    {
     "data": {
      "image/png": "[encoded data removed]",
      "text/plain": [
       "<Figure size 2160x720 with 2 Axes>"
      ]
     },
     "metadata": {
      "needs_background": "light"
     },
     "output_type": "display_data"
    }
   ],
   "source": [
    "plt.figure(figsize=(30,10))\n",
    "sns.heatmap(corr, cmap='coolwarm', annot = True)\n",
    "plt.show()"
   ]
  },
  {
   "cell_type": "markdown",
   "metadata": {
    "papermill": {
     "duration": 0.0497,
     "end_time": "2021-06-17T14:32:38.498182",
     "exception": false,
     "start_time": "2021-06-17T14:32:38.448482",
     "status": "completed"
    },
    "tags": []
   },
   "source": [
    "I will not be looking each column one by one. I will choose the most correlated ones and use them in my models."
   ]
  },
  {
   "cell_type": "code",
   "execution_count": 24,
   "metadata": {
    "execution": {
     "iopub.execute_input": "2021-06-17T14:32:38.607127Z",
     "iopub.status.busy": "2021-06-17T14:32:38.606420Z",
     "iopub.status.idle": "2021-06-17T14:32:38.629070Z",
     "shell.execute_reply": "2021-06-17T14:32:38.628449Z",
     "shell.execute_reply.started": "2021-06-17T14:30:13.723732Z"
    },
    "papermill": {
     "duration": 0.079422,
     "end_time": "2021-06-17T14:32:38.629219",
     "exception": false,
     "start_time": "2021-06-17T14:32:38.549797",
     "status": "completed"
    },
    "tags": []
   },
   "outputs": [
    {
     "data": {
      "text/plain": [
       "Index(['SeniorCitizen', 'Partner', 'Dependents', 'tenure', 'InternetService',\n",
       "       'OnlineSecurity', 'TechSupport', 'Contract', 'PaperlessBilling',\n",
       "       'PaymentMethod', 'MonthlyCharges', 'TotalCharges', 'Churn'],\n",
       "      dtype='object')"
      ]
     },
     "execution_count": 24,
     "metadata": {},
     "output_type": "execute_result"
    }
   ],
   "source": [
    "corr[abs(corr['Churn']) > 0.1].index"
   ]
  },
  {
   "cell_type": "code",
   "execution_count": 25,
   "metadata": {
    "execution": {
     "iopub.execute_input": "2021-06-17T14:32:38.736074Z",
     "iopub.status.busy": "2021-06-17T14:32:38.735409Z",
     "iopub.status.idle": "2021-06-17T14:32:38.740605Z",
     "shell.execute_reply": "2021-06-17T14:32:38.740071Z",
     "shell.execute_reply.started": "2021-06-17T14:30:13.748511Z"
    },
    "papermill": {
     "duration": 0.060928,
     "end_time": "2021-06-17T14:32:38.740750",
     "exception": false,
     "start_time": "2021-06-17T14:32:38.679822",
     "status": "completed"
    },
    "tags": []
   },
   "outputs": [],
   "source": [
    "df = df[['SeniorCitizen', 'Partner', 'Dependents', 'tenure', 'InternetService',\n",
    "       'OnlineSecurity', 'TechSupport', 'Contract', 'PaperlessBilling',\n",
    "       'PaymentMethod', 'MonthlyCharges', 'TotalCharges', 'Churn']]"
   ]
  },
  {
   "cell_type": "code",
   "execution_count": 26,
   "metadata": {
    "execution": {
     "iopub.execute_input": "2021-06-17T14:32:38.847862Z",
     "iopub.status.busy": "2021-06-17T14:32:38.847191Z",
     "iopub.status.idle": "2021-06-17T14:32:39.104527Z",
     "shell.execute_reply": "2021-06-17T14:32:39.103971Z",
     "shell.execute_reply.started": "2021-06-17T14:30:13.757953Z"
    },
    "papermill": {
     "duration": 0.313056,
     "end_time": "2021-06-17T14:32:39.104678",
     "exception": false,
     "start_time": "2021-06-17T14:32:38.791622",
     "status": "completed"
    },
    "tags": []
   },
   "outputs": [],
   "source": [
    "from sklearn.model_selection import train_test_split\n",
    "from sklearn.metrics import classification_report\n",
    "from sklearn import metrics"
   ]
  },
  {
   "cell_type": "code",
   "execution_count": 27,
   "metadata": {
    "execution": {
     "iopub.execute_input": "2021-06-17T14:32:39.218073Z",
     "iopub.status.busy": "2021-06-17T14:32:39.217361Z",
     "iopub.status.idle": "2021-06-17T14:32:39.220824Z",
     "shell.execute_reply": "2021-06-17T14:32:39.220243Z",
     "shell.execute_reply.started": "2021-06-17T14:30:14.040609Z"
    },
    "papermill": {
     "duration": 0.063875,
     "end_time": "2021-06-17T14:32:39.220984",
     "exception": false,
     "start_time": "2021-06-17T14:32:39.157109",
     "status": "completed"
    },
    "tags": []
   },
   "outputs": [],
   "source": [
    "x = df.drop(['Churn'], axis=1)\n",
    "y = df['Churn']"
   ]
  },
  {
   "cell_type": "code",
   "execution_count": 28,
   "metadata": {
    "execution": {
     "iopub.execute_input": "2021-06-17T14:32:39.330049Z",
     "iopub.status.busy": "2021-06-17T14:32:39.329275Z",
     "iopub.status.idle": "2021-06-17T14:32:39.332906Z",
     "shell.execute_reply": "2021-06-17T14:32:39.333403Z",
     "shell.execute_reply.started": "2021-06-17T14:30:14.047964Z"
    },
    "papermill": {
     "duration": 0.061426,
     "end_time": "2021-06-17T14:32:39.333573",
     "exception": false,
     "start_time": "2021-06-17T14:32:39.272147",
     "status": "completed"
    },
    "tags": []
   },
   "outputs": [
    {
     "data": {
      "text/plain": [
       "((5986, 12), (5986,))"
      ]
     },
     "execution_count": 28,
     "metadata": {},
     "output_type": "execute_result"
    }
   ],
   "source": [
    "x.shape, y.shape"
   ]
  },
  {
   "cell_type": "code",
   "execution_count": 29,
   "metadata": {
    "execution": {
     "iopub.execute_input": "2021-06-17T14:32:39.440781Z",
     "iopub.status.busy": "2021-06-17T14:32:39.440111Z",
     "iopub.status.idle": "2021-06-17T14:32:39.446522Z",
     "shell.execute_reply": "2021-06-17T14:32:39.445926Z",
     "shell.execute_reply.started": "2021-06-17T14:30:14.062093Z"
    },
    "papermill": {
     "duration": 0.061886,
     "end_time": "2021-06-17T14:32:39.446671",
     "exception": false,
     "start_time": "2021-06-17T14:32:39.384785",
     "status": "completed"
    },
    "tags": []
   },
   "outputs": [],
   "source": [
    "x_train, x_test, y_train, y_test = train_test_split(x, y, test_size=0.2, random_state=42)"
   ]
  },
  {
   "cell_type": "markdown",
   "metadata": {
    "papermill": {
     "duration": 0.052139,
     "end_time": "2021-06-17T14:32:39.549744",
     "exception": false,
     "start_time": "2021-06-17T14:32:39.497605",
     "status": "completed"
    },
    "tags": []
   },
   "source": [
    "**LOGISTIC REGRESSION**"
   ]
  },
  {
   "cell_type": "code",
   "execution_count": 30,
   "metadata": {
    "execution": {
     "iopub.execute_input": "2021-06-17T14:32:39.656504Z",
     "iopub.status.busy": "2021-06-17T14:32:39.655815Z",
     "iopub.status.idle": "2021-06-17T14:32:40.061174Z",
     "shell.execute_reply": "2021-06-17T14:32:40.060590Z",
     "shell.execute_reply.started": "2021-06-17T14:30:14.083500Z"
    },
    "papermill": {
     "duration": 0.459231,
     "end_time": "2021-06-17T14:32:40.061338",
     "exception": false,
     "start_time": "2021-06-17T14:32:39.602107",
     "status": "completed"
    },
    "tags": []
   },
   "outputs": [
    {
     "name": "stdout",
     "output_type": "stream",
     "text": [
      "              precision    recall  f1-score   support\n",
      "\n",
      "           0       0.84      0.90      0.87       895\n",
      "           1       0.62      0.50      0.56       303\n",
      "\n",
      "    accuracy                           0.80      1198\n",
      "   macro avg       0.73      0.70      0.71      1198\n",
      "weighted avg       0.79      0.80      0.79      1198\n",
      "\n"
     ]
    },
    {
     "name": "stderr",
     "output_type": "stream",
     "text": [
      "/opt/conda/lib/python3.7/site-packages/sklearn/linear_model/_logistic.py:765: ConvergenceWarning: lbfgs failed to converge (status=1):\n",
      "STOP: TOTAL NO. of ITERATIONS REACHED LIMIT.\n",
      "\n",
      "Increase the number of iterations (max_iter) or scale the data as shown in:\n",
      "    https://scikit-learn.org/stable/modules/preprocessing.html\n",
      "Please also refer to the documentation for alternative solver options:\n",
      "    https://scikit-learn.org/stable/modules/linear_model.html#logistic-regression\n",
      "  extra_warning_msg=_LOGISTIC_SOLVER_CONVERGENCE_MSG)\n"
     ]
    },
    {
     "data": {
      "text/plain": [
       "<sklearn.metrics._plot.roc_curve.RocCurveDisplay at 0x7f0fcc057910>"
      ]
     },
     "execution_count": 30,
     "metadata": {},
     "output_type": "execute_result"
    },
    {
     "data": {
      "image/png": "[encoded data removed]",
      "text/plain": [
       "<Figure size 432x288 with 1 Axes>"
      ]
     },
     "metadata": {
      "needs_background": "light"
     },
     "output_type": "display_data"
    }
   ],
   "source": [
    "from sklearn.linear_model import LogisticRegression\n",
    "logistic = LogisticRegression()\n",
    "logistic.fit(x_train, y_train)\n",
    "prediction_lr = logistic.predict(x_test)\n",
    "print(classification_report(y_test,prediction_lr))\n",
    "metrics.plot_roc_curve(logistic, x_test, y_test)"
   ]
  },
  {
   "cell_type": "markdown",
   "metadata": {
    "papermill": {
     "duration": 0.053748,
     "end_time": "2021-06-17T14:32:40.170050",
     "exception": false,
     "start_time": "2021-06-17T14:32:40.116302",
     "status": "completed"
    },
    "tags": []
   },
   "source": [
    "**DECISION TREE**"
   ]
  },
  {
   "cell_type": "code",
   "execution_count": 31,
   "metadata": {
    "execution": {
     "iopub.execute_input": "2021-06-17T14:32:40.282082Z",
     "iopub.status.busy": "2021-06-17T14:32:40.281257Z",
     "iopub.status.idle": "2021-06-17T14:32:40.597945Z",
     "shell.execute_reply": "2021-06-17T14:32:40.597264Z",
     "shell.execute_reply.started": "2021-06-17T14:30:14.481570Z"
    },
    "papermill": {
     "duration": 0.374596,
     "end_time": "2021-06-17T14:32:40.598089",
     "exception": false,
     "start_time": "2021-06-17T14:32:40.223493",
     "status": "completed"
    },
    "tags": []
   },
   "outputs": [
    {
     "name": "stdout",
     "output_type": "stream",
     "text": [
      "              precision    recall  f1-score   support\n",
      "\n",
      "           0       0.83      0.80      0.82       895\n",
      "           1       0.47      0.51      0.49       303\n",
      "\n",
      "    accuracy                           0.73      1198\n",
      "   macro avg       0.65      0.66      0.65      1198\n",
      "weighted avg       0.74      0.73      0.74      1198\n",
      "\n"
     ]
    },
    {
     "data": {
      "text/plain": [
       "<sklearn.metrics._plot.roc_curve.RocCurveDisplay at 0x7f0fc2c1b090>"
      ]
     },
     "execution_count": 31,
     "metadata": {},
     "output_type": "execute_result"
    },
    {
     "data": {
      "image/png": "[encoded data removed]",
      "text/plain": [
       "<Figure size 432x288 with 1 Axes>"
      ]
     },
     "metadata": {
      "needs_background": "light"
     },
     "output_type": "display_data"
    }
   ],
   "source": [
    "from sklearn.tree import DecisionTreeClassifier\n",
    "tree = DecisionTreeClassifier()\n",
    "tree.fit(x_train, y_train)\n",
    "prediction_dt = tree.predict(x_test)\n",
    "print(classification_report(y_test, prediction_dt))\n",
    "metrics.plot_roc_curve(tree, x_test, y_test)"
   ]
  },
  {
   "cell_type": "markdown",
   "metadata": {
    "papermill": {
     "duration": 0.054367,
     "end_time": "2021-06-17T14:32:40.710573",
     "exception": false,
     "start_time": "2021-06-17T14:32:40.656206",
     "status": "completed"
    },
    "tags": []
   },
   "source": [
    "**RANDOM FOREST**"
   ]
  },
  {
   "cell_type": "code",
   "execution_count": 32,
   "metadata": {
    "execution": {
     "iopub.execute_input": "2021-06-17T14:32:40.826575Z",
     "iopub.status.busy": "2021-06-17T14:32:40.825684Z",
     "iopub.status.idle": "2021-06-17T14:32:41.775360Z",
     "shell.execute_reply": "2021-06-17T14:32:41.774815Z",
     "shell.execute_reply.started": "2021-06-17T14:30:14.880590Z"
    },
    "papermill": {
     "duration": 1.00979,
     "end_time": "2021-06-17T14:32:41.775516",
     "exception": false,
     "start_time": "2021-06-17T14:32:40.765726",
     "status": "completed"
    },
    "tags": []
   },
   "outputs": [
    {
     "name": "stdout",
     "output_type": "stream",
     "text": [
      "              precision    recall  f1-score   support\n",
      "\n",
      "           0       0.83      0.89      0.86       895\n",
      "           1       0.58      0.46      0.51       303\n",
      "\n",
      "    accuracy                           0.78      1198\n",
      "   macro avg       0.71      0.67      0.69      1198\n",
      "weighted avg       0.77      0.78      0.77      1198\n",
      "\n"
     ]
    },
    {
     "data": {
      "text/plain": [
       "<sklearn.metrics._plot.roc_curve.RocCurveDisplay at 0x7f0fcedb5790>"
      ]
     },
     "execution_count": 32,
     "metadata": {},
     "output_type": "execute_result"
    },
    {
     "data": {
      "image/png": "[encoded data removed]",
      "text/plain": [
       "<Figure size 432x288 with 1 Axes>"
      ]
     },
     "metadata": {
      "needs_background": "light"
     },
     "output_type": "display_data"
    }
   ],
   "source": [
    "from sklearn.ensemble import RandomForestClassifier\n",
    "forest = RandomForestClassifier()\n",
    "forest.fit(x_train, y_train)\n",
    "prediction_rf = forest.predict(x_test)\n",
    "print(classification_report(y_test, prediction_rf))\n",
    "metrics.plot_roc_curve(forest, x_test, y_test) "
   ]
  },
  {
   "cell_type": "markdown",
   "metadata": {
    "papermill": {
     "duration": 0.056407,
     "end_time": "2021-06-17T14:32:41.889053",
     "exception": false,
     "start_time": "2021-06-17T14:32:41.832646",
     "status": "completed"
    },
    "tags": []
   },
   "source": [
    "**ARTIFICIAL NEURAL NETWORK**"
   ]
  },
  {
   "cell_type": "code",
   "execution_count": 33,
   "metadata": {
    "execution": {
     "iopub.execute_input": "2021-06-17T14:32:42.007709Z",
     "iopub.status.busy": "2021-06-17T14:32:42.007004Z",
     "iopub.status.idle": "2021-06-17T14:32:47.984498Z",
     "shell.execute_reply": "2021-06-17T14:32:47.983271Z",
     "shell.execute_reply.started": "2021-06-17T14:30:15.646652Z"
    },
    "papermill": {
     "duration": 6.038692,
     "end_time": "2021-06-17T14:32:47.984665",
     "exception": false,
     "start_time": "2021-06-17T14:32:41.945973",
     "status": "completed"
    },
    "tags": []
   },
   "outputs": [],
   "source": [
    "import keras\n",
    "from keras.layers import Dense\n",
    "from keras.models import Sequential\n",
    "from keras.layers import Dropout"
   ]
  },
  {
   "cell_type": "code",
   "execution_count": 34,
   "metadata": {
    "execution": {
     "iopub.execute_input": "2021-06-17T14:32:48.104301Z",
     "iopub.status.busy": "2021-06-17T14:32:48.103599Z",
     "iopub.status.idle": "2021-06-17T14:32:48.107472Z",
     "shell.execute_reply": "2021-06-17T14:32:48.106901Z",
     "shell.execute_reply.started": "2021-06-17T14:30:22.564258Z"
    },
    "papermill": {
     "duration": 0.064562,
     "end_time": "2021-06-17T14:32:48.107612",
     "exception": false,
     "start_time": "2021-06-17T14:32:48.043050",
     "status": "completed"
    },
    "tags": []
   },
   "outputs": [
    {
     "data": {
      "text/plain": [
       "(5986, 12)"
      ]
     },
     "execution_count": 34,
     "metadata": {},
     "output_type": "execute_result"
    }
   ],
   "source": [
    "x.shape"
   ]
  },
  {
   "cell_type": "code",
   "execution_count": 35,
   "metadata": {
    "execution": {
     "iopub.execute_input": "2021-06-17T14:32:48.223784Z",
     "iopub.status.busy": "2021-06-17T14:32:48.223152Z",
     "iopub.status.idle": "2021-06-17T14:32:48.334223Z",
     "shell.execute_reply": "2021-06-17T14:32:48.334745Z",
     "shell.execute_reply.started": "2021-06-17T14:30:22.572150Z"
    },
    "jupyter": {
     "source_hidden": true
    },
    "papermill": {
     "duration": 0.170332,
     "end_time": "2021-06-17T14:32:48.334940",
     "exception": false,
     "start_time": "2021-06-17T14:32:48.164608",
     "status": "completed"
    },
    "tags": []
   },
   "outputs": [
    {
     "name": "stdout",
     "output_type": "stream",
     "text": [
      "Model: \"sequential\"\n",
      "_________________________________________________________________\n",
      "Layer (type)                 Output Shape              Param #   \n",
      "=================================================================\n",
      "dense (Dense)                (None, 32)                416       \n",
      "_________________________________________________________________\n",
      "dropout (Dropout)            (None, 32)                0         \n",
      "_________________________________________________________________\n",
      "dense_1 (Dense)              (None, 16)                528       \n",
      "_________________________________________________________________\n",
      "dense_2 (Dense)              (None, 1)                 17        \n",
      "=================================================================\n",
      "Total params: 961\n",
      "Trainable params: 961\n",
      "Non-trainable params: 0\n",
      "_________________________________________________________________\n"
     ]
    }
   ],
   "source": [
    "model = Sequential([\n",
    "    Dense(32, activation='relu', input_dim=12),\n",
    "    Dropout(0.5),\n",
    "    Dense(16, activation='relu'),\n",
    "    Dense(1, activation='sigmoid')\n",
    "])\n",
    "model.compile(optimizer='adam', loss='mean_squared_error', metrics=['accuracy'])\n",
    "model.summary()"
   ]
  },
  {
   "cell_type": "code",
   "execution_count": 36,
   "metadata": {
    "execution": {
     "iopub.execute_input": "2021-06-17T14:32:48.453546Z",
     "iopub.status.busy": "2021-06-17T14:32:48.452825Z",
     "iopub.status.idle": "2021-06-17T14:34:20.010178Z",
     "shell.execute_reply": "2021-06-17T14:34:20.009543Z",
     "shell.execute_reply.started": "2021-06-17T14:30:22.713880Z"
    },
    "papermill": {
     "duration": 91.617449,
     "end_time": "2021-06-17T14:34:20.010344",
     "exception": false,
     "start_time": "2021-06-17T14:32:48.392895",
     "status": "completed"
    },
    "tags": []
   },
   "outputs": [
    {
     "name": "stdout",
     "output_type": "stream",
     "text": [
      "Epoch 1/200\n",
      "479/479 - 1s - loss: 0.3746 - accuracy: 0.6178\n",
      "Epoch 2/200\n",
      "479/479 - 0s - loss: 0.2713 - accuracy: 0.7258\n",
      "Epoch 3/200\n",
      "479/479 - 0s - loss: 0.2660 - accuracy: 0.7314\n",
      "Epoch 4/200\n",
      "479/479 - 0s - loss: 0.2618 - accuracy: 0.7325\n",
      "Epoch 5/200\n",
      "479/479 - 0s - loss: 0.2516 - accuracy: 0.7442\n",
      "Epoch 6/200\n",
      "479/479 - 0s - loss: 0.2486 - accuracy: 0.7452\n",
      "Epoch 7/200\n",
      "479/479 - 0s - loss: 0.2503 - accuracy: 0.7429\n",
      "Epoch 8/200\n",
      "479/479 - 0s - loss: 0.2459 - accuracy: 0.7475\n",
      "Epoch 9/200\n",
      "479/479 - 0s - loss: 0.2424 - accuracy: 0.7513\n",
      "Epoch 10/200\n",
      "479/479 - 0s - loss: 0.2447 - accuracy: 0.7473\n",
      "Epoch 11/200\n",
      "479/479 - 0s - loss: 0.2421 - accuracy: 0.7513\n",
      "Epoch 12/200\n",
      "479/479 - 0s - loss: 0.2458 - accuracy: 0.7448\n",
      "Epoch 13/200\n",
      "479/479 - 0s - loss: 0.2467 - accuracy: 0.7439\n",
      "Epoch 14/200\n",
      "479/479 - 0s - loss: 0.2356 - accuracy: 0.7544\n",
      "Epoch 15/200\n",
      "479/479 - 0s - loss: 0.2345 - accuracy: 0.7496\n",
      "Epoch 16/200\n",
      "479/479 - 0s - loss: 0.2308 - accuracy: 0.7546\n",
      "Epoch 17/200\n",
      "479/479 - 0s - loss: 0.2322 - accuracy: 0.7533\n",
      "Epoch 18/200\n",
      "479/479 - 0s - loss: 0.2262 - accuracy: 0.7588\n",
      "Epoch 19/200\n",
      "479/479 - 0s - loss: 0.2212 - accuracy: 0.7579\n",
      "Epoch 20/200\n",
      "479/479 - 0s - loss: 0.2224 - accuracy: 0.7584\n",
      "Epoch 21/200\n",
      "479/479 - 0s - loss: 0.2201 - accuracy: 0.7590\n",
      "Epoch 22/200\n",
      "479/479 - 0s - loss: 0.2176 - accuracy: 0.7627\n",
      "Epoch 23/200\n",
      "479/479 - 0s - loss: 0.2157 - accuracy: 0.7657\n",
      "Epoch 24/200\n",
      "479/479 - 0s - loss: 0.2168 - accuracy: 0.7619\n",
      "Epoch 25/200\n",
      "479/479 - 0s - loss: 0.2104 - accuracy: 0.7588\n",
      "Epoch 26/200\n",
      "479/479 - 0s - loss: 0.2067 - accuracy: 0.7632\n",
      "Epoch 27/200\n",
      "479/479 - 0s - loss: 0.2098 - accuracy: 0.7600\n",
      "Epoch 28/200\n",
      "479/479 - 0s - loss: 0.2128 - accuracy: 0.7546\n",
      "Epoch 29/200\n",
      "479/479 - 1s - loss: 0.2018 - accuracy: 0.7692\n",
      "Epoch 30/200\n",
      "479/479 - 0s - loss: 0.2031 - accuracy: 0.7707\n",
      "Epoch 31/200\n",
      "479/479 - 0s - loss: 0.2026 - accuracy: 0.7644\n",
      "Epoch 32/200\n",
      "479/479 - 0s - loss: 0.1988 - accuracy: 0.7678\n",
      "Epoch 33/200\n",
      "479/479 - 0s - loss: 0.1929 - accuracy: 0.7678\n",
      "Epoch 34/200\n",
      "479/479 - 0s - loss: 0.1925 - accuracy: 0.7675\n",
      "Epoch 35/200\n",
      "479/479 - 0s - loss: 0.1898 - accuracy: 0.7675\n",
      "Epoch 36/200\n",
      "479/479 - 0s - loss: 0.1846 - accuracy: 0.7675\n",
      "Epoch 37/200\n",
      "479/479 - 0s - loss: 0.1814 - accuracy: 0.7678\n",
      "Epoch 38/200\n",
      "479/479 - 0s - loss: 0.1779 - accuracy: 0.7690\n",
      "Epoch 39/200\n",
      "479/479 - 0s - loss: 0.1730 - accuracy: 0.7732\n",
      "Epoch 40/200\n",
      "479/479 - 0s - loss: 0.1716 - accuracy: 0.7673\n",
      "Epoch 41/200\n",
      "479/479 - 0s - loss: 0.1723 - accuracy: 0.7740\n",
      "Epoch 42/200\n",
      "479/479 - 0s - loss: 0.1667 - accuracy: 0.7755\n",
      "Epoch 43/200\n",
      "479/479 - 0s - loss: 0.1702 - accuracy: 0.7629\n",
      "Epoch 44/200\n",
      "479/479 - 0s - loss: 0.1699 - accuracy: 0.7715\n",
      "Epoch 45/200\n",
      "479/479 - 0s - loss: 0.1606 - accuracy: 0.7726\n",
      "Epoch 46/200\n",
      "479/479 - 0s - loss: 0.1614 - accuracy: 0.7792\n",
      "Epoch 47/200\n",
      "479/479 - 0s - loss: 0.1614 - accuracy: 0.7734\n",
      "Epoch 48/200\n",
      "479/479 - 0s - loss: 0.1580 - accuracy: 0.7746\n",
      "Epoch 49/200\n",
      "479/479 - 0s - loss: 0.1587 - accuracy: 0.7682\n",
      "Epoch 50/200\n",
      "479/479 - 0s - loss: 0.1571 - accuracy: 0.7713\n",
      "Epoch 51/200\n",
      "479/479 - 0s - loss: 0.1608 - accuracy: 0.7669\n",
      "Epoch 52/200\n",
      "479/479 - 0s - loss: 0.1582 - accuracy: 0.7751\n",
      "Epoch 53/200\n",
      "479/479 - 0s - loss: 0.1553 - accuracy: 0.7778\n",
      "Epoch 54/200\n",
      "479/479 - 0s - loss: 0.1615 - accuracy: 0.7780\n",
      "Epoch 55/200\n",
      "479/479 - 0s - loss: 0.1552 - accuracy: 0.7767\n",
      "Epoch 56/200\n",
      "479/479 - 0s - loss: 0.1536 - accuracy: 0.7763\n",
      "Epoch 57/200\n",
      "479/479 - 0s - loss: 0.1561 - accuracy: 0.7751\n",
      "Epoch 58/200\n",
      "479/479 - 0s - loss: 0.1543 - accuracy: 0.7792\n",
      "Epoch 59/200\n",
      "479/479 - 0s - loss: 0.1578 - accuracy: 0.7769\n",
      "Epoch 60/200\n",
      "479/479 - 0s - loss: 0.1565 - accuracy: 0.7736\n",
      "Epoch 61/200\n",
      "479/479 - 0s - loss: 0.1538 - accuracy: 0.7774\n",
      "Epoch 62/200\n",
      "479/479 - 0s - loss: 0.1536 - accuracy: 0.7782\n",
      "Epoch 63/200\n",
      "479/479 - 0s - loss: 0.1548 - accuracy: 0.7776\n",
      "Epoch 64/200\n",
      "479/479 - 0s - loss: 0.1530 - accuracy: 0.7767\n",
      "Epoch 65/200\n",
      "479/479 - 0s - loss: 0.1597 - accuracy: 0.7792\n",
      "Epoch 66/200\n",
      "479/479 - 0s - loss: 0.1548 - accuracy: 0.7786\n",
      "Epoch 67/200\n",
      "479/479 - 0s - loss: 0.1541 - accuracy: 0.7755\n",
      "Epoch 68/200\n",
      "479/479 - 0s - loss: 0.1537 - accuracy: 0.7828\n",
      "Epoch 69/200\n",
      "479/479 - 0s - loss: 0.1525 - accuracy: 0.7820\n",
      "Epoch 70/200\n",
      "479/479 - 0s - loss: 0.1520 - accuracy: 0.7746\n",
      "Epoch 71/200\n",
      "479/479 - 0s - loss: 0.1524 - accuracy: 0.7772\n",
      "Epoch 72/200\n",
      "479/479 - 0s - loss: 0.1539 - accuracy: 0.7774\n",
      "Epoch 73/200\n",
      "479/479 - 0s - loss: 0.1519 - accuracy: 0.7836\n",
      "Epoch 74/200\n",
      "479/479 - 0s - loss: 0.1530 - accuracy: 0.7778\n",
      "Epoch 75/200\n",
      "479/479 - 0s - loss: 0.1510 - accuracy: 0.7763\n",
      "Epoch 76/200\n",
      "479/479 - 0s - loss: 0.1537 - accuracy: 0.7826\n",
      "Epoch 77/200\n",
      "479/479 - 0s - loss: 0.1551 - accuracy: 0.7769\n",
      "Epoch 78/200\n",
      "479/479 - 0s - loss: 0.1554 - accuracy: 0.7759\n",
      "Epoch 79/200\n",
      "479/479 - 0s - loss: 0.1557 - accuracy: 0.7751\n",
      "Epoch 80/200\n",
      "479/479 - 0s - loss: 0.1524 - accuracy: 0.7840\n",
      "Epoch 81/200\n",
      "479/479 - 0s - loss: 0.1531 - accuracy: 0.7763\n",
      "Epoch 82/200\n",
      "479/479 - 0s - loss: 0.1543 - accuracy: 0.7822\n",
      "Epoch 83/200\n",
      "479/479 - 0s - loss: 0.1516 - accuracy: 0.7847\n",
      "Epoch 84/200\n",
      "479/479 - 0s - loss: 0.1525 - accuracy: 0.7824\n",
      "Epoch 85/200\n",
      "479/479 - 0s - loss: 0.1525 - accuracy: 0.7799\n",
      "Epoch 86/200\n",
      "479/479 - 0s - loss: 0.1520 - accuracy: 0.7824\n",
      "Epoch 87/200\n",
      "479/479 - 0s - loss: 0.1523 - accuracy: 0.7820\n",
      "Epoch 88/200\n",
      "479/479 - 0s - loss: 0.1519 - accuracy: 0.7776\n",
      "Epoch 89/200\n",
      "479/479 - 0s - loss: 0.1524 - accuracy: 0.7784\n",
      "Epoch 90/200\n",
      "479/479 - 0s - loss: 0.1503 - accuracy: 0.7826\n",
      "Epoch 91/200\n",
      "479/479 - 0s - loss: 0.1500 - accuracy: 0.7857\n",
      "Epoch 92/200\n",
      "479/479 - 0s - loss: 0.1514 - accuracy: 0.7807\n",
      "Epoch 93/200\n",
      "479/479 - 0s - loss: 0.1496 - accuracy: 0.7863\n",
      "Epoch 94/200\n",
      "479/479 - 0s - loss: 0.1551 - accuracy: 0.7792\n",
      "Epoch 95/200\n",
      "479/479 - 0s - loss: 0.1498 - accuracy: 0.7817\n",
      "Epoch 96/200\n",
      "479/479 - 0s - loss: 0.1481 - accuracy: 0.7895\n",
      "Epoch 97/200\n",
      "479/479 - 0s - loss: 0.1512 - accuracy: 0.7788\n",
      "Epoch 98/200\n",
      "479/479 - 0s - loss: 0.1504 - accuracy: 0.7834\n",
      "Epoch 99/200\n",
      "479/479 - 0s - loss: 0.1493 - accuracy: 0.7853\n",
      "Epoch 100/200\n",
      "479/479 - 1s - loss: 0.1487 - accuracy: 0.7830\n",
      "Epoch 101/200\n",
      "479/479 - 0s - loss: 0.1489 - accuracy: 0.7838\n",
      "Epoch 102/200\n",
      "479/479 - 0s - loss: 0.1488 - accuracy: 0.7838\n",
      "Epoch 103/200\n",
      "479/479 - 0s - loss: 0.1496 - accuracy: 0.7872\n",
      "Epoch 104/200\n",
      "479/479 - 0s - loss: 0.1507 - accuracy: 0.7809\n",
      "Epoch 105/200\n",
      "479/479 - 0s - loss: 0.1497 - accuracy: 0.7807\n",
      "Epoch 106/200\n",
      "479/479 - 0s - loss: 0.1484 - accuracy: 0.7811\n",
      "Epoch 107/200\n",
      "479/479 - 0s - loss: 0.1492 - accuracy: 0.7872\n",
      "Epoch 108/200\n",
      "479/479 - 0s - loss: 0.1511 - accuracy: 0.7801\n",
      "Epoch 109/200\n",
      "479/479 - 0s - loss: 0.1485 - accuracy: 0.7805\n",
      "Epoch 110/200\n",
      "479/479 - 0s - loss: 0.1500 - accuracy: 0.7853\n",
      "Epoch 111/200\n",
      "479/479 - 0s - loss: 0.1525 - accuracy: 0.7838\n",
      "Epoch 112/200\n",
      "479/479 - 0s - loss: 0.1505 - accuracy: 0.7838\n",
      "Epoch 113/200\n",
      "479/479 - 0s - loss: 0.1487 - accuracy: 0.7886\n",
      "Epoch 114/200\n",
      "479/479 - 0s - loss: 0.1482 - accuracy: 0.7872\n",
      "Epoch 115/200\n",
      "479/479 - 0s - loss: 0.1496 - accuracy: 0.7820\n",
      "Epoch 116/200\n",
      "479/479 - 0s - loss: 0.1467 - accuracy: 0.7888\n",
      "Epoch 117/200\n",
      "479/479 - 0s - loss: 0.1477 - accuracy: 0.7884\n",
      "Epoch 118/200\n",
      "479/479 - 0s - loss: 0.1490 - accuracy: 0.7861\n",
      "Epoch 119/200\n",
      "479/479 - 0s - loss: 0.1476 - accuracy: 0.7905\n",
      "Epoch 120/200\n",
      "479/479 - 0s - loss: 0.1478 - accuracy: 0.7851\n",
      "Epoch 121/200\n",
      "479/479 - 0s - loss: 0.1490 - accuracy: 0.7820\n",
      "Epoch 122/200\n",
      "479/479 - 0s - loss: 0.1488 - accuracy: 0.7878\n",
      "Epoch 123/200\n",
      "479/479 - 0s - loss: 0.1504 - accuracy: 0.7803\n",
      "Epoch 124/200\n",
      "479/479 - 0s - loss: 0.1479 - accuracy: 0.7884\n",
      "Epoch 125/200\n",
      "479/479 - 0s - loss: 0.1487 - accuracy: 0.7784\n",
      "Epoch 126/200\n",
      "479/479 - 0s - loss: 0.1495 - accuracy: 0.7853\n",
      "Epoch 127/200\n",
      "479/479 - 0s - loss: 0.1499 - accuracy: 0.7820\n",
      "Epoch 128/200\n",
      "479/479 - 0s - loss: 0.1459 - accuracy: 0.7893\n",
      "Epoch 129/200\n",
      "479/479 - 0s - loss: 0.1457 - accuracy: 0.7822\n",
      "Epoch 130/200\n",
      "479/479 - 0s - loss: 0.1471 - accuracy: 0.7872\n",
      "Epoch 131/200\n",
      "479/479 - 0s - loss: 0.1505 - accuracy: 0.7893\n",
      "Epoch 132/200\n",
      "479/479 - 0s - loss: 0.1484 - accuracy: 0.7845\n",
      "Epoch 133/200\n",
      "479/479 - 0s - loss: 0.1472 - accuracy: 0.7859\n",
      "Epoch 134/200\n",
      "479/479 - 0s - loss: 0.1479 - accuracy: 0.7815\n",
      "Epoch 135/200\n",
      "479/479 - 0s - loss: 0.1476 - accuracy: 0.7832\n",
      "Epoch 136/200\n",
      "479/479 - 0s - loss: 0.1475 - accuracy: 0.7865\n",
      "Epoch 137/200\n",
      "479/479 - 0s - loss: 0.1467 - accuracy: 0.7895\n",
      "Epoch 138/200\n",
      "479/479 - 0s - loss: 0.1509 - accuracy: 0.7868\n",
      "Epoch 139/200\n",
      "479/479 - 0s - loss: 0.1495 - accuracy: 0.7880\n",
      "Epoch 140/200\n",
      "479/479 - 0s - loss: 0.1443 - accuracy: 0.7918\n",
      "Epoch 141/200\n",
      "479/479 - 0s - loss: 0.1465 - accuracy: 0.7865\n",
      "Epoch 142/200\n",
      "479/479 - 0s - loss: 0.1467 - accuracy: 0.7876\n",
      "Epoch 143/200\n",
      "479/479 - 0s - loss: 0.1453 - accuracy: 0.7926\n",
      "Epoch 144/200\n",
      "479/479 - 0s - loss: 0.1460 - accuracy: 0.7939\n",
      "Epoch 145/200\n",
      "479/479 - 0s - loss: 0.1496 - accuracy: 0.7872\n",
      "Epoch 146/200\n",
      "479/479 - 0s - loss: 0.1465 - accuracy: 0.7901\n",
      "Epoch 147/200\n",
      "479/479 - 0s - loss: 0.1497 - accuracy: 0.7870\n",
      "Epoch 148/200\n",
      "479/479 - 0s - loss: 0.1476 - accuracy: 0.7891\n",
      "Epoch 149/200\n",
      "479/479 - 0s - loss: 0.1494 - accuracy: 0.7828\n",
      "Epoch 150/200\n",
      "479/479 - 0s - loss: 0.1472 - accuracy: 0.7859\n",
      "Epoch 151/200\n",
      "479/479 - 0s - loss: 0.1488 - accuracy: 0.7820\n",
      "Epoch 152/200\n",
      "479/479 - 0s - loss: 0.1472 - accuracy: 0.7876\n",
      "Epoch 153/200\n",
      "479/479 - 0s - loss: 0.1474 - accuracy: 0.7857\n",
      "Epoch 154/200\n",
      "479/479 - 0s - loss: 0.1456 - accuracy: 0.7870\n",
      "Epoch 155/200\n",
      "479/479 - 0s - loss: 0.1474 - accuracy: 0.7840\n",
      "Epoch 156/200\n",
      "479/479 - 0s - loss: 0.1482 - accuracy: 0.7872\n",
      "Epoch 157/200\n",
      "479/479 - 0s - loss: 0.1480 - accuracy: 0.7847\n",
      "Epoch 158/200\n",
      "479/479 - 0s - loss: 0.1474 - accuracy: 0.7878\n",
      "Epoch 159/200\n",
      "479/479 - 0s - loss: 0.1471 - accuracy: 0.7876\n",
      "Epoch 160/200\n",
      "479/479 - 0s - loss: 0.1467 - accuracy: 0.7872\n",
      "Epoch 161/200\n",
      "479/479 - 0s - loss: 0.1468 - accuracy: 0.7888\n",
      "Epoch 162/200\n",
      "479/479 - 0s - loss: 0.1470 - accuracy: 0.7914\n",
      "Epoch 163/200\n",
      "479/479 - 0s - loss: 0.1475 - accuracy: 0.7947\n",
      "Epoch 164/200\n",
      "479/479 - 0s - loss: 0.1459 - accuracy: 0.7843\n",
      "Epoch 165/200\n",
      "479/479 - 0s - loss: 0.1465 - accuracy: 0.7882\n",
      "Epoch 166/200\n",
      "479/479 - 0s - loss: 0.1469 - accuracy: 0.7840\n",
      "Epoch 167/200\n",
      "479/479 - 0s - loss: 0.1483 - accuracy: 0.7851\n",
      "Epoch 168/200\n",
      "479/479 - 0s - loss: 0.1461 - accuracy: 0.7926\n",
      "Epoch 169/200\n",
      "479/479 - 0s - loss: 0.1458 - accuracy: 0.7882\n",
      "Epoch 170/200\n",
      "479/479 - 0s - loss: 0.1464 - accuracy: 0.7868\n",
      "Epoch 171/200\n",
      "479/479 - 0s - loss: 0.1457 - accuracy: 0.7886\n",
      "Epoch 172/200\n",
      "479/479 - 1s - loss: 0.1466 - accuracy: 0.7863\n",
      "Epoch 173/200\n",
      "479/479 - 0s - loss: 0.1470 - accuracy: 0.7918\n",
      "Epoch 174/200\n",
      "479/479 - 0s - loss: 0.1467 - accuracy: 0.7888\n",
      "Epoch 175/200\n",
      "479/479 - 0s - loss: 0.1480 - accuracy: 0.7878\n",
      "Epoch 176/200\n",
      "479/479 - 0s - loss: 0.1453 - accuracy: 0.7922\n",
      "Epoch 177/200\n",
      "479/479 - 0s - loss: 0.1454 - accuracy: 0.7907\n",
      "Epoch 178/200\n",
      "479/479 - 0s - loss: 0.1470 - accuracy: 0.7863\n",
      "Epoch 179/200\n",
      "479/479 - 0s - loss: 0.1466 - accuracy: 0.7893\n",
      "Epoch 180/200\n",
      "479/479 - 0s - loss: 0.1463 - accuracy: 0.7868\n",
      "Epoch 181/200\n",
      "479/479 - 0s - loss: 0.1473 - accuracy: 0.7855\n",
      "Epoch 182/200\n",
      "479/479 - 0s - loss: 0.1466 - accuracy: 0.7857\n",
      "Epoch 183/200\n",
      "479/479 - 0s - loss: 0.1463 - accuracy: 0.7851\n",
      "Epoch 184/200\n",
      "479/479 - 0s - loss: 0.1488 - accuracy: 0.7838\n",
      "Epoch 185/200\n",
      "479/479 - 0s - loss: 0.1472 - accuracy: 0.7797\n",
      "Epoch 186/200\n",
      "479/479 - 0s - loss: 0.1465 - accuracy: 0.7855\n",
      "Epoch 187/200\n",
      "479/479 - 0s - loss: 0.1464 - accuracy: 0.7886\n",
      "Epoch 188/200\n",
      "479/479 - 0s - loss: 0.1450 - accuracy: 0.7907\n",
      "Epoch 189/200\n",
      "479/479 - 0s - loss: 0.1461 - accuracy: 0.7868\n",
      "Epoch 190/200\n",
      "479/479 - 0s - loss: 0.1468 - accuracy: 0.7851\n",
      "Epoch 191/200\n",
      "479/479 - 0s - loss: 0.1462 - accuracy: 0.7872\n",
      "Epoch 192/200\n",
      "479/479 - 0s - loss: 0.1447 - accuracy: 0.7874\n",
      "Epoch 193/200\n",
      "479/479 - 0s - loss: 0.1440 - accuracy: 0.7911\n",
      "Epoch 194/200\n",
      "479/479 - 0s - loss: 0.1474 - accuracy: 0.7876\n",
      "Epoch 195/200\n",
      "479/479 - 0s - loss: 0.1459 - accuracy: 0.7870\n",
      "Epoch 196/200\n",
      "479/479 - 0s - loss: 0.1445 - accuracy: 0.7882\n",
      "Epoch 197/200\n",
      "479/479 - 0s - loss: 0.1458 - accuracy: 0.7903\n",
      "Epoch 198/200\n",
      "479/479 - 0s - loss: 0.1456 - accuracy: 0.7916\n",
      "Epoch 199/200\n",
      "479/479 - 1s - loss: 0.1472 - accuracy: 0.7830\n",
      "Epoch 200/200\n",
      "479/479 - 0s - loss: 0.1459 - accuracy: 0.7870\n"
     ]
    }
   ],
   "source": [
    "history = model.fit(x_train, y_train, batch_size=10, epochs=200,verbose=2)"
   ]
  },
  {
   "cell_type": "code",
   "execution_count": 37,
   "metadata": {
    "execution": {
     "iopub.execute_input": "2021-06-17T14:34:20.378099Z",
     "iopub.status.busy": "2021-06-17T14:34:20.377006Z",
     "iopub.status.idle": "2021-06-17T14:34:20.380818Z",
     "shell.execute_reply": "2021-06-17T14:34:20.380270Z",
     "shell.execute_reply.started": "2021-06-17T14:31:47.437188Z"
    },
    "papermill": {
     "duration": 0.188015,
     "end_time": "2021-06-17T14:34:20.380984",
     "exception": false,
     "start_time": "2021-06-17T14:34:20.192969",
     "status": "completed"
    },
    "tags": []
   },
   "outputs": [
    {
     "name": "stdout",
     "output_type": "stream",
     "text": [
      "dict_keys(['loss', 'accuracy'])\n"
     ]
    }
   ],
   "source": [
    "print(history.history.keys())"
   ]
  },
  {
   "cell_type": "code",
   "execution_count": 38,
   "metadata": {
    "execution": {
     "iopub.execute_input": "2021-06-17T14:34:20.768960Z",
     "iopub.status.busy": "2021-06-17T14:34:20.764199Z",
     "iopub.status.idle": "2021-06-17T14:34:20.949587Z",
     "shell.execute_reply": "2021-06-17T14:34:20.948780Z",
     "shell.execute_reply.started": "2021-06-17T14:31:47.443418Z"
    },
    "papermill": {
     "duration": 0.38609,
     "end_time": "2021-06-17T14:34:20.949746",
     "exception": false,
     "start_time": "2021-06-17T14:34:20.563656",
     "status": "completed"
    },
    "tags": []
   },
   "outputs": [
    {
     "data": {
      "text/plain": [
       "<matplotlib.legend.Legend at 0x7f0f8efe0e50>"
      ]
     },
     "execution_count": 38,
     "metadata": {},
     "output_type": "execute_result"
    },
    {
     "data": {
      "image/png": "[encoded data removed]",
      "text/plain": [
       "<Figure size 432x288 with 1 Axes>"
      ]
     },
     "metadata": {
      "needs_background": "light"
     },
     "output_type": "display_data"
    }
   ],
   "source": [
    "plt.plot(history.history['accuracy'], label='Accuracy', color='blue')\n",
    "plt.plot(history.history['loss'], label='Loss', color='red')\n",
    "plt.legend()"
   ]
  },
  {
   "cell_type": "code",
   "execution_count": 39,
   "metadata": {
    "execution": {
     "iopub.execute_input": "2021-06-17T14:34:21.340397Z",
     "iopub.status.busy": "2021-06-17T14:34:21.339334Z",
     "iopub.status.idle": "2021-06-17T14:34:21.490288Z",
     "shell.execute_reply": "2021-06-17T14:34:21.489601Z",
     "shell.execute_reply.started": "2021-06-17T14:31:47.625110Z"
    },
    "papermill": {
     "duration": 0.355679,
     "end_time": "2021-06-17T14:34:21.490435",
     "exception": false,
     "start_time": "2021-06-17T14:34:21.134756",
     "status": "completed"
    },
    "tags": []
   },
   "outputs": [
    {
     "name": "stdout",
     "output_type": "stream",
     "text": [
      "              precision    recall  f1-score   support\n",
      "\n",
      "           0       0.82      0.94      0.88       895\n",
      "           1       0.69      0.40      0.51       303\n",
      "\n",
      "    accuracy                           0.80      1198\n",
      "   macro avg       0.75      0.67      0.69      1198\n",
      "weighted avg       0.79      0.80      0.78      1198\n",
      "\n"
     ]
    }
   ],
   "source": [
    "prediction_nn = model.predict(x_test)\n",
    "prediction_nn = [1 if y>=0.5 else 0 for y in prediction_nn]\n",
    "print(classification_report(y_test, prediction_nn))"
   ]
  },
  {
   "cell_type": "markdown",
   "metadata": {
    "papermill": {
     "duration": 0.187183,
     "end_time": "2021-06-17T14:34:21.854750",
     "exception": false,
     "start_time": "2021-06-17T14:34:21.667567",
     "status": "completed"
    },
    "tags": []
   },
   "source": [
    "We achieved around 80% accuracy with different models. If we do some feature engineering after the preprocess maybe we can increase the accuracy little bit more."
   ]
  }
 ],
 "metadata": {
  "kernelspec": {
   "display_name": "Python 3",
   "language": "python",
   "name": "python3"
  },
  "language_info": {
   "codemirror_mode": {
    "name": "ipython",
    "version": 3
   },
   "file_extension": ".py",
   "mimetype": "text/x-python",
   "name": "python",
   "nbconvert_exporter": "python",
   "pygments_lexer": "ipython3",
   "version": "3.7.9"
  },
  "papermill": {
   "default_parameters": {},
   "duration": 122.992941,
   "end_time": "2021-06-17T14:34:24.217577",
   "environment_variables": {},
   "exception": null,
   "input_path": "__notebook__.ipynb",
   "output_path": "__notebook__.ipynb",
   "parameters": {},
   "start_time": "2021-06-17T14:32:21.224636",
   "version": "2.2.2"
  }
 },
 "nbformat": 4,
 "nbformat_minor": 4
}
